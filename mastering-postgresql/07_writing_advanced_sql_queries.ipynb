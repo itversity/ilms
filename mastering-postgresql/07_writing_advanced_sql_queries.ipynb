{
 "cells": [
  {
   "cell_type": "markdown",
   "metadata": {},
   "source": [
    "# Writing Advanced SQL Queries\n",
    "\n",
    "As part of this section we will understand how to write queries using some of the advanced features.\n",
    "\n",
    "* Nested Sub Queries\n",
    "* Using WITH Clause\n",
    "* Pivoting Rows into Columns\n",
    "* Overview of Analytic Functions\n",
    "* Define Problem Statement – Top 5 Daily Products\n",
    "* Analytic Functions – Aggregations\n",
    "* Analytic Functions – Ranking\n",
    "* Analytic Functions – Windowing\n",
    "* Final Solution – Top 5 Daily Products"
   ]
  },
  {
   "cell_type": "markdown",
   "metadata": {},
   "source": [
    "## Nested Sub Queries"
   ]
  },
  {
   "cell_type": "code",
   "execution_count": 2,
   "metadata": {},
   "outputs": [
    {
     "name": "stdout",
     "output_type": "stream",
     "text": [
      "Defaulting to user installation because normal site-packages is not writeable\n",
      "Requirement already satisfied: myst-parser in /opt/anaconda3/envs/beakerx/lib/python3.6/site-packages (0.12.10)\n",
      "Requirement already satisfied: pyyaml in /opt/anaconda3/envs/beakerx/lib/python3.6/site-packages (from myst-parser) (5.3.1)\n",
      "Requirement already satisfied: markdown-it-py~=0.5.4 in /opt/anaconda3/envs/beakerx/lib/python3.6/site-packages (from myst-parser) (0.5.6)\n",
      "Requirement already satisfied: docutils>=0.15 in /opt/anaconda3/envs/beakerx/lib/python3.6/site-packages (from myst-parser) (0.16)\n",
      "Requirement already satisfied: sphinx<4,>=2 in /opt/anaconda3/envs/beakerx/lib/python3.6/site-packages (from myst-parser) (3.2.1)\n",
      "Requirement already satisfied: attrs<21,>=19 in /opt/anaconda3/envs/beakerx/lib/python3.6/site-packages (from markdown-it-py~=0.5.4->myst-parser) (20.2.0)\n",
      "Requirement already satisfied: sphinxcontrib-jsmath in /opt/anaconda3/envs/beakerx/lib/python3.6/site-packages (from sphinx<4,>=2->myst-parser) (1.0.1)\n",
      "Requirement already satisfied: requests>=2.5.0 in /opt/anaconda3/envs/beakerx/lib/python3.6/site-packages (from sphinx<4,>=2->myst-parser) (2.24.0)\n",
      "Requirement already satisfied: setuptools in /opt/anaconda3/envs/beakerx/lib/python3.6/site-packages (from sphinx<4,>=2->myst-parser) (49.6.0.post20201009)\n",
      "Requirement already satisfied: Pygments>=2.0 in /opt/anaconda3/envs/beakerx/lib/python3.6/site-packages (from sphinx<4,>=2->myst-parser) (2.7.2)\n",
      "Requirement already satisfied: sphinxcontrib-serializinghtml in /opt/anaconda3/envs/beakerx/lib/python3.6/site-packages (from sphinx<4,>=2->myst-parser) (1.1.4)\n",
      "Requirement already satisfied: sphinxcontrib-qthelp in /opt/anaconda3/envs/beakerx/lib/python3.6/site-packages (from sphinx<4,>=2->myst-parser) (1.0.3)\n",
      "Requirement already satisfied: Jinja2>=2.3 in /opt/anaconda3/envs/beakerx/lib/python3.6/site-packages (from sphinx<4,>=2->myst-parser) (2.11.2)\n",
      "Requirement already satisfied: sphinxcontrib-applehelp in /opt/anaconda3/envs/beakerx/lib/python3.6/site-packages (from sphinx<4,>=2->myst-parser) (1.0.2)\n",
      "Requirement already satisfied: alabaster<0.8,>=0.7 in /opt/anaconda3/envs/beakerx/lib/python3.6/site-packages (from sphinx<4,>=2->myst-parser) (0.7.12)\n",
      "Requirement already satisfied: snowballstemmer>=1.1 in /opt/anaconda3/envs/beakerx/lib/python3.6/site-packages (from sphinx<4,>=2->myst-parser) (2.0.0)\n",
      "Requirement already satisfied: packaging in /opt/anaconda3/envs/beakerx/lib/python3.6/site-packages (from sphinx<4,>=2->myst-parser) (20.4)\n",
      "Requirement already satisfied: imagesize in /opt/anaconda3/envs/beakerx/lib/python3.6/site-packages (from sphinx<4,>=2->myst-parser) (1.2.0)\n",
      "Requirement already satisfied: sphinxcontrib-devhelp in /opt/anaconda3/envs/beakerx/lib/python3.6/site-packages (from sphinx<4,>=2->myst-parser) (1.0.2)\n",
      "Requirement already satisfied: babel>=1.3 in /opt/anaconda3/envs/beakerx/lib/python3.6/site-packages (from sphinx<4,>=2->myst-parser) (2.8.0)\n",
      "Requirement already satisfied: sphinxcontrib-htmlhelp in /opt/anaconda3/envs/beakerx/lib/python3.6/site-packages (from sphinx<4,>=2->myst-parser) (1.0.3)\n",
      "Requirement already satisfied: certifi>=2017.4.17 in /opt/anaconda3/envs/beakerx/lib/python3.6/site-packages (from requests>=2.5.0->sphinx<4,>=2->myst-parser) (2020.6.20)\n",
      "Requirement already satisfied: chardet<4,>=3.0.2 in /opt/anaconda3/envs/beakerx/lib/python3.6/site-packages (from requests>=2.5.0->sphinx<4,>=2->myst-parser) (3.0.4)\n",
      "Requirement already satisfied: idna<3,>=2.5 in /opt/anaconda3/envs/beakerx/lib/python3.6/site-packages (from requests>=2.5.0->sphinx<4,>=2->myst-parser) (2.10)\n",
      "Requirement already satisfied: urllib3!=1.25.0,!=1.25.1,<1.26,>=1.21.1 in /opt/anaconda3/envs/beakerx/lib/python3.6/site-packages (from requests>=2.5.0->sphinx<4,>=2->myst-parser) (1.25.11)\n",
      "Requirement already satisfied: MarkupSafe>=0.23 in /opt/anaconda3/envs/beakerx/lib/python3.6/site-packages (from Jinja2>=2.3->sphinx<4,>=2->myst-parser) (1.1.1)\n",
      "Requirement already satisfied: pyparsing>=2.0.2 in /opt/anaconda3/envs/beakerx/lib/python3.6/site-packages (from packaging->sphinx<4,>=2->myst-parser) (2.4.7)\n",
      "Requirement already satisfied: six in /opt/anaconda3/envs/beakerx/lib/python3.6/site-packages (from packaging->sphinx<4,>=2->myst-parser) (1.15.0)\n",
      "Requirement already satisfied: pytz>=2015.7 in /opt/anaconda3/envs/beakerx/lib/python3.6/site-packages (from babel>=1.3->sphinx<4,>=2->myst-parser) (2020.1)\n"
     ]
    }
   ],
   "source": [
    "!pip install myst-parser"
   ]
  },
  {
   "cell_type": "markdown",
   "metadata": {},
   "source": [
    "## Using WITH Clause"
   ]
  },
  {
   "cell_type": "markdown",
   "metadata": {},
   "source": [
    "## Pivoting Rows into Columns"
   ]
  },
  {
   "cell_type": "markdown",
   "metadata": {},
   "source": [
    "## Overview of Analytic Functions"
   ]
  },
  {
   "cell_type": "markdown",
   "metadata": {},
   "source": [
    "## Define Problem Statement – Top 5 Daily Products"
   ]
  },
  {
   "cell_type": "markdown",
   "metadata": {},
   "source": [
    "## Analytic Functions – Aggregations"
   ]
  },
  {
   "cell_type": "markdown",
   "metadata": {},
   "source": [
    "## Analytic Functions – Ranking"
   ]
  },
  {
   "cell_type": "markdown",
   "metadata": {},
   "source": [
    "## Analytic Functions – Windowing"
   ]
  },
  {
   "cell_type": "markdown",
   "metadata": {},
   "source": [
    "## Final Solution – Top 5 Daily Products"
   ]
  }
 ],
 "metadata": {
  "kernelspec": {
   "display_name": "Python 3",
   "language": "python",
   "name": "python3"
  },
  "language_info": {
   "codemirror_mode": {
    "name": "ipython",
    "version": 3
   },
   "file_extension": ".py",
   "mimetype": "text/x-python",
   "name": "python",
   "nbconvert_exporter": "python",
   "pygments_lexer": "ipython3",
   "version": "3.6.12"
  }
 },
 "nbformat": 4,
 "nbformat_minor": 4
}
