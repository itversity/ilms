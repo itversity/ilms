{
 "cells": [
  {
   "cell_type": "markdown",
   "metadata": {},
   "source": [
    "# Bonus - Setup Exclusive Labs\n",
    "\n",
    "As part of this section, we are going to see the details related to setting up exclusive labs on GCP leveraging $300 credit.\n",
    "\n",
    "* Overview of GCP\n",
    "* Provisioning Virtual Machine\n",
    "* Setup Docker and Key Concepts\n",
    "* Using Docker CLI\n",
    "* Setup Jupyter Lab Environment\n",
    "* Setup Postgresql Database\n",
    "* Overview of psql CLI\n",
    "* SQL Integration - Jupyter Lab\n",
    "* Conclusion"
   ]
  },
  {
   "cell_type": "markdown",
   "metadata": {},
   "source": [
    "## Overview of GCP\n",
    "\n",
    "Let us get an overview of GCP and the credit provided by Google.\n",
    "* Sign up to GCP (you need to have credit card to use it).\n",
    "* Overview of GCP Web Console\n",
    "* Understanding GCP Pricing\n",
    "  * Virtual Machine (Variable cost)\n",
    "  * Storage (Fixed cost)\n",
    "  * Static IP (Fixed cost)\n",
    "* You also need to understand how to get the billing details.\n",
    "* Keep in mind that you do not open up ports unnecessarily as the server can be hijacked by malware and can dry out your credits."
   ]
  },
  {
   "cell_type": "markdown",
   "metadata": {},
   "source": [
    "## Provisioning Virtual Machine\n",
    "\n",
    "Let us understand how to provision a virtual machine from GCP.\n",
    "* We need to go to Virtual Machines\n",
    "* Overview of different operating systems\n",
    "* Choose the server configuration\n",
    "* Choose OS - Ubuntu 18.04\n",
    "* Choose the size of hard drive (32 GB should suffice)\n",
    "* Once the virtual machine is created you need to spend some time understand how to manage it.\n",
    "  * Stopping the virtual machine\n",
    "  * Starting the virtual machine\n",
    "  * Restarting the virtual machine\n",
    "  * Deleting the virtual machine\n",
    "  * Connecting to running server\n",
    "  * Configuring Firewall Rules (it will be covered in later topics a bit in detail)\n",
    "* Make sure the virtual machine is stopped when you are not using it, otherwise you will run out of credits fast."
   ]
  },
  {
   "cell_type": "markdown",
   "metadata": {},
   "source": [
    "## Setup Docker and Key Concepts\n",
    "\n",
    "As our VM is up and running, let us make sure to setup docker and validate. Also we will get into some of the key concepts related to docker.\n",
    "* Follow any standard article to setup Docker on Ubuntu 18.04. These are the commands that are used to setup Docker.\n",
    "\n",
    "```\n",
    "sudo apt update\n",
    "sudo apt install apt-transport-https ca-certificates curl software-properties-common -y\n",
    "curl -fsSL https://download.docker.com/linux/ubuntu/gpg | sudo apt-key add -\n",
    "sudo add-apt-repository \"deb [arch=amd64] https://download.docker.com/linux/ubuntu bionic stable\"\n",
    "sudo apt update\n",
    "apt-cache policy docker-ce\n",
    "sudo apt install docker-ce\n",
    "sudo systemctl status docker\n",
    "```\n",
    "\n",
    "* Make sure to add the user you logged in to a group called as **docker**. It is primarily to not to use sudo to manage docker containers. Run `sudo usermod -aG docker ${USER}`\n",
    "* Once the user is added to the group, you might have to reconnect to the session.\n",
    "\n",
    "**Docker Key Concepts**\n",
    "Here are some of the key concepts related to docker.\n",
    "* Ephemeral - if no service is running in the container, it will be in stopped state.\n",
    "* Image - a file which will have light weight OS kernel in hibernate or paused state.\n",
    "* Container - a process which is created using an image or images and might be in one of running, stopped, exit (error) status.\n",
    "* Here are the steps to have a container for process such as nginx.\n",
    "  * Download nginx image\n",
    "  * Start the container with entry point\n",
    "  * Once the container is started, you can stop at any point in time.\n",
    "  * For containers like hello world where there is no active application associated with, they will go to stopped state after performing the designated tasks.\n",
    "* Here are some of the usage scenarios for docker containers.\n",
    "  * Maintain databases for development activities. It is not recommended to use docker to maintain production databases.\n",
    "  * Maintain web or application servers for development activities. We can even run production applications as part of docker containers.\n",
    "  * Run ad hoc batch data processing applications or data pipelines in development or production."
   ]
  },
  {
   "cell_type": "markdown",
   "metadata": {},
   "source": [
    "## Using Docker CLI\n",
    "\n",
    "Let us get an overview about Docker CLI to manage docker components such as images, containers etc.\n",
    "* `docker images` is the main command to manage images.\n",
    "  * `docker image pull` or `docker pull`\n",
    "* `docker container` is the main command to manage containers.\n",
    "* We can use `docker run` command to quickly start the container.\n",
    "  * It will pull the image from docker hub, if the image is not already available.\n",
    "  * Creates the container, if the container is not already created.\n",
    "  * Starts the container, if the container is not started.\n",
    "  * If there is no server running the container, it will just come out of the container.\n",
    "* `docker run --name hw hello-world` will pull the **hello-world** image, creates the container with name **hw**, starts the container and stops it after printing Hello message as there is no service associated with it. You can run below commands using Linux Terminal."
   ]
  },
  {
   "cell_type": "code",
   "execution_count": 3,
   "metadata": {},
   "outputs": [
    {
     "name": "stdout",
     "output_type": "stream",
     "text": [
      "CONTAINER ID        IMAGE               COMMAND             CREATED             STATUS              PORTS               NAMES\n"
     ]
    }
   ],
   "source": [
    "%%sh\n",
    "\n",
    "docker ps -a"
   ]
  },
  {
   "cell_type": "code",
   "execution_count": 4,
   "metadata": {},
   "outputs": [
    {
     "name": "stdout",
     "output_type": "stream",
     "text": [
      "REPOSITORY          TAG                 IMAGE ID            CREATED             SIZE\n"
     ]
    }
   ],
   "source": [
    "%%sh\n",
    "\n",
    "docker images -a"
   ]
  },
  {
   "cell_type": "code",
   "execution_count": 5,
   "metadata": {},
   "outputs": [
    {
     "name": "stdout",
     "output_type": "stream",
     "text": [
      "\n",
      "Hello from Docker!\n",
      "This message shows that your installation appears to be working correctly.\n",
      "\n",
      "To generate this message, Docker took the following steps:\n",
      " 1. The Docker client contacted the Docker daemon.\n",
      " 2. The Docker daemon pulled the \"hello-world\" image from the Docker Hub.\n",
      "    (amd64)\n",
      " 3. The Docker daemon created a new container from that image which runs the\n",
      "    executable that produces the output you are currently reading.\n",
      " 4. The Docker daemon streamed that output to the Docker client, which sent it\n",
      "    to your terminal.\n",
      "\n",
      "To try something more ambitious, you can run an Ubuntu container with:\n",
      " $ docker run -it ubuntu bash\n",
      "\n",
      "Share images, automate workflows, and more with a free Docker ID:\n",
      " https://hub.docker.com/\n",
      "\n",
      "For more examples and ideas, visit:\n",
      " https://docs.docker.com/get-started/\n",
      "\n"
     ]
    },
    {
     "name": "stderr",
     "output_type": "stream",
     "text": [
      "Unable to find image 'hello-world:latest' locally\n",
      "latest: Pulling from library/hello-world\n",
      "0e03bdcc26d7: Pulling fs layer\n",
      "0e03bdcc26d7: Verifying Checksum\n",
      "0e03bdcc26d7: Download complete\n",
      "0e03bdcc26d7: Pull complete\n",
      "Digest: sha256:8c5aeeb6a5f3ba4883347d3747a7249f491766ca1caa47e5da5dfcf6b9b717c0\n",
      "Status: Downloaded newer image for hello-world:latest\n"
     ]
    }
   ],
   "source": [
    "%%sh\n",
    "\n",
    "docker run --name hw hello-world"
   ]
  },
  {
   "cell_type": "code",
   "execution_count": 6,
   "metadata": {},
   "outputs": [
    {
     "name": "stdout",
     "output_type": "stream",
     "text": [
      "REPOSITORY          TAG                 IMAGE ID            CREATED             SIZE\n",
      "hello-world         latest              bf756fb1ae65        10 months ago       13.3kB\n"
     ]
    }
   ],
   "source": [
    "%%sh\n",
    "\n",
    "docker images -a"
   ]
  },
  {
   "cell_type": "code",
   "execution_count": 1,
   "metadata": {},
   "outputs": [
    {
     "name": "stdout",
     "output_type": "stream",
     "text": [
      "CONTAINER ID        IMAGE               COMMAND             CREATED             STATUS                      PORTS               NAMES\n",
      "3874ed91f0d2        hello-world         \"/hello\"            14 minutes ago      Exited (0) 14 minutes ago                       hw\n"
     ]
    }
   ],
   "source": [
    "%%sh\n",
    "\n",
    "docker ps -a"
   ]
  },
  {
   "cell_type": "markdown",
   "metadata": {},
   "source": [
    "## Setup Jupyter Lab Environment\n",
    "\n",
    "To get similar experience as demonstrated in the course content, we would recommend to setup Jupyter Lab Environment.\n",
    "* Connect to the Virtual Machines provisioned from GCP.\n",
    "* Make sure Python 3 is installed in the Virtual Machine. Use `python3` to validate\n",
    "* Make sure pip is installed in the Virtual Machine.\n",
    "* Install Jupyter Lab using pip `python3 -m pip install jupyterlab`.\n",
    "* You can launch Jupyter Lab using `jupyter lab --ip 0.0.0.0` and it will start with default port number **8888**.\n",
    "* We need to open the port number by going to Network and then Firewall for the Virtual Machine.\n",
    "* Make sure you can access Jupyter Lab using the browser on your laptop.\n",
    "\n",
    "```\n",
    "sudo apt install python3-pip -y\n",
    "python3 -m pip install jupyter lab\n",
    "jupyter lab --ip 0.0.0.0\n",
    "```"
   ]
  },
  {
   "cell_type": "markdown",
   "metadata": {},
   "source": [
    "## Setup Postgresql Database\n",
    "\n",
    "Let us setup Postgresql Database using Docker.\n",
    "* Pull the image\n",
    "* Start the container\n",
    "* You need to understand all the key arguments used for creating the container."
   ]
  },
  {
   "cell_type": "markdown",
   "metadata": {},
   "source": [
    "## Overview of psql CLI\n",
    "\n",
    "As the container is ready let us make sure that we can connect to the container using psql CLI.\n",
    "\n",
    "* We can use `docker exec` command to connect to running container or run a single command.\n",
    "* First, we need to ensure that container is up and running. We can use `docker ps`.\n",
    "* Fetch the container name.\n",
    "* Use `docker exec -it pg_db bash` to connect to the container's console.\n",
    "* We can also run indiviual commands - example: `docker exec -it pg_db ls -ltr`.\n",
    "* To connect to psql CLI either we can use bash and then psql or we can directly run psql command - `docker exec -it pg_db psql -U postgres`\n",
    "* Here are the some of the commands you can run to get comfortable with `psql` CLI via docker.\n",
    "  * List databases - `\\l`\n",
    "  * List tables - `\\d`\n",
    "  * Check the current database - `SELECT current_database()`\n",
    "  * Create new database - `CREATE DATABASE test_db;`\n",
    "  * Change to database - `\\c test_db`\n",
    "  * Create table - `CREATE TABLE t (i INT)`\n",
    "  * Describe table - `\\d t`"
   ]
  },
  {
   "cell_type": "markdown",
   "metadata": {},
   "source": [
    "## SQL Integration - Jupyter Lab\n",
    "\n",
    "It might not be comfortable to use psql to learn more about SQL using Postgresql. We can either use SQL Alchemy or Jupyter Lab to accelerate our learning process.\n",
    "\n",
    "Let us understand how we can integrate Jupyter Lab with Postgresql.\n",
    "* Install **ipython-sql** - `pip install ipython-sql`\n",
    "* Install **SQLAlchemy** - `pip install sqlalchemy`\n",
    "* Load the magic command as extension to Python 3 kernel.\n",
    "* Validate by connecting to database and then running some queries."
   ]
  },
  {
   "cell_type": "markdown",
   "metadata": {},
   "source": [
    "## Conclusion"
   ]
  },
  {
   "cell_type": "code",
   "execution_count": null,
   "metadata": {},
   "outputs": [],
   "source": []
  }
 ],
 "metadata": {
  "kernelspec": {
   "display_name": "Python 3",
   "language": "python",
   "name": "python3"
  },
  "language_info": {
   "codemirror_mode": {
    "name": "ipython",
    "version": 3
   },
   "file_extension": ".py",
   "mimetype": "text/x-python",
   "name": "python",
   "nbconvert_exporter": "python",
   "pygments_lexer": "ipython3",
   "version": "3.6.12"
  }
 },
 "nbformat": 4,
 "nbformat_minor": 4
}
