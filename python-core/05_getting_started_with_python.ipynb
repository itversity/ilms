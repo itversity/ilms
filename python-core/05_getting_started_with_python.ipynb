{
 "cells": [
  {
   "cell_type": "markdown",
   "metadata": {
    "pycharm": {
     "name": "#%% md"
    }
   },
   "source": [
    "# Getting Started with Python\n",
    "\n",
    "As part of this section we will get started with Python.\n",
    "\n",
    "* Installing Python\n",
    "* Overview of Anaconda\n",
    "* Python CLI and Jupyter Notebook\n",
    "* Overview of Jupyter Lab\n",
    "* Using IDEs – Pycharm\n",
    "* Overview of Visual Studio Code\n",
    "* Using ITVersity Labs\n",
    "* Leveraging Google’s Colab"
   ]
  },
  {
   "cell_type": "markdown",
   "metadata": {},
   "source": [
    "## Installing Python\n",
    "\n",
    "Let us explore different ways to install Python and also go through the steps to validate and install Python.\n",
    "\n",
    "Here are different ways using which Python is typically installed.\n",
    "* Direct download and installation of Python\n",
    "* Using Anaconda\n",
    "\n",
    "For application development we would recommend to install Python and Pycharm (IDE). We will see how to install Python now and will take care of installing Pycharm later.\n",
    "\n",
    "**On Windows**\n",
    "* Go to official Python Website\n",
    "* Choose right version of Python\n",
    "* Make sure to choose 64 bit version based up on the OS you are trying to install.\n",
    "* Download and install Python\n",
    "\n",
    "If you are using Mac, we would recommend to use `brew` and with Ubuntu based desktop, we would recommend to use `snap`.\n",
    "\n",
    "If you are setting up environment for Data Science, it is straight forward to get started using Anaconda."
   ]
  },
  {
   "cell_type": "markdown",
   "metadata": {},
   "source": [
    "## Overview of Anaconda\n",
    "\n",
    "Anaconda is another popular way of installing and managing Python. Let us get an overview of Anaconda.\n",
    "* Anaconda is available for all major OS platforms such as Windows, Mac, Ubuntu Linux, Red Hat or Centos Linux etc.\n",
    "* Here are some of the capabiliies of Anaconda\n",
    "  * Managing multiple versions of Python\n",
    "  * Ability to setup and manage other programming languages such as R\n",
    "  * Popular Data Science libraries are pre-installed\n",
    "  * Ability to setup and manage developer friendly tools such as Jupyter, JupyterLab, Pycharm and more.\n",
    "\n",
    "Even though it is straight forward to setup Anaconda, I would not recommend to setup unless your personal laptop is quad core and have 16 GB RAM. If your laptop have lesser configuration, there is a chance of impacting your laptop's performance.\n"
   ]
  },
  {
   "cell_type": "markdown",
   "metadata": {},
   "source": [
    "## Python CLI and Jupyter Notebook\n",
    "\n",
    "Python is supported by multiple interfaces to explore as well as to develop applications.\n",
    "* Python CLI - to explore the libraries and functions.\n",
    "* IPython - CLI with better interactive capabilities\n",
    "* Jupyter Notebook - A wrapper on top of IPython which provides you the capabilities of exploring Python via browser.\n",
    "* Jupyter Lab - A wrapper on top of Jupyter Notebook which enhances user experience.\n",
    "* IDEs - Primarily used for Application Development\n",
    "\n",
    "We can leverage Jupyter Notebook or Jupyter Lab to learn Python and should use IDEs such as Pycharm for application development."
   ]
  },
  {
   "cell_type": "markdown",
   "metadata": {},
   "source": [
    "### Tasks - Python CLI\n",
    "Here are some of the tasks to be comfortable with Python CLI.\n",
    "* Launch Python CLI\n",
    "* Print Hello World - `print('Hello World')`\n",
    "* Perform basic arithmetic operations - `1 + 2`\n",
    "* Print Python Version\n",
    "\n",
    "```\n",
    "from platform import python_version\n",
    "print(python_version())\n",
    "```\n",
    "\n",
    "**We will look into Jupyter Notebook and Jupyter Lab as part of next topic**"
   ]
  },
  {
   "cell_type": "markdown",
   "metadata": {},
   "source": [
    "## Overview of Jupyter Lab\n",
    "\n",
    "Jupyter Lab is a wrapper around Jupyter Notebook to explore and learn Python in interactive fashion. Let us understand how we can create Jupyter Notebook using Jupyter Lab.\n",
    "\n",
    "* Relationship between Jupyter Notebook and iPython\n",
    "* Naming Standards\n",
    "* Managing Cells\n",
    "* Cell Types\n",
    "* Getting help using Jupyter Cells"
   ]
  },
  {
   "cell_type": "markdown",
   "metadata": {
    "pycharm": {
     "name": "#%% md\n"
    }
   },
   "source": [
    "### Tasks\n",
    "\n",
    "Let's perform tasks to understand Jupyter Notebook environment better.\n",
    "\n",
    "* Create Jupyter Notebook by name **Getting Started**\n",
    "* View classic Jupyter Notebook\n",
    "* Launch Terminal (applicable for Linux or Mac based systems on which Jupyter is setup)\n",
    "* Import `python_version` from `platform`\n",
    "* Get help on `python_version` as part of the cell\n",
    "* Create cell and write the code to get the version of Python.\n",
    "\n",
    "```\n",
    "from platform import python_version\n",
    "print(python_version())\n",
    "```"
   ]
  },
  {
   "cell_type": "code",
   "execution_count": null,
   "metadata": {},
   "outputs": [],
   "source": [
    "from platform import python_version"
   ]
  },
  {
   "cell_type": "code",
   "execution_count": null,
   "metadata": {},
   "outputs": [],
   "source": [
    "python_version?"
   ]
  },
  {
   "cell_type": "code",
   "execution_count": null,
   "metadata": {
    "pycharm": {
     "name": "#%%\n"
    }
   },
   "outputs": [],
   "source": [
    "print(python_version())"
   ]
  },
  {
   "cell_type": "markdown",
   "metadata": {},
   "source": [
    "## Using IDEs – Pycharm\n",
    "\n",
    "Let us get an overview of IDEs, especially Pycharm.\n",
    "* While we can effectively learn Python Programming using Jupyter Notebooks, it is not a good practice to take care of application development using it.\n",
    "* We should fall back on IDEs such as Pycharm for developing applications such as web, data engineering etc.\n",
    "* IDE stands for **integrated development environment** and Pycharm is the most popular IDE for application development.\n",
    "* Pycharm have both **Community Edition** which is free and **Professional Edition** which require license.\n",
    "* Make sure to get better at Pycharm in these areas.\n",
    "  * Creating projects\n",
    "  * Using terminal\n",
    "  * Generating boiler plate code\n",
    "  * Refactoring code\n",
    "  * Effective use of plugins such as Git for code versioning and interactive development with your fellow team members."
   ]
  },
  {
   "cell_type": "markdown",
   "metadata": {},
   "source": [
    "## Overview of Visual Studio Code\n",
    "\n",
    "Let us get an overview of another popular IDE which can be used for application development - Visual Studio Code, Popularly known as VS Code.\n",
    "* It can support most of the features Pycharm support.\n",
    "* However, some of the features will be available only when you install relevant plugins.\n",
    "* VS Code is open source and supported by Microsoft.\n",
    "* If you want to use VS Code, make sure to get better in the same areas as referred for Pycharm.\n",
    "  * Creating projects\n",
    "  * Using terminal\n",
    "  * Generating boiler plate code\n",
    "  * Refactoring code\n",
    "  * Effective use of plugins such as Git for code versioning and interactive development with your fellow team members."
   ]
  },
  {
   "cell_type": "markdown",
   "metadata": {},
   "source": [
    "## Using ITVersity Labs\n",
    "\n",
    "At ITVersity, we are thriving to provide integrated lab to practice Python in tandem with other key technologies for becoming professional in application or data engineering.\n",
    "* It is Jupyter based environment, each user will get his/her own Jupyter Lab server.\n",
    "* We will provide required data sets for you.\n",
    "* There will be pre-created databases which can be leveraged for database programming.\n",
    "* All the key libraries such as Pandas are pre-installed."
   ]
  },
  {
   "cell_type": "markdown",
   "metadata": {},
   "source": [
    "## Leveraging Google’s Colab\n",
    "\n",
    "Google's colab is a free yet powerful Python based environment which can be leveraged for practice.\n",
    "* You can import these Python Notebooks into Colab.\n",
    "* You might have to make some changes to the code in some cases to execute in colab environment.\n",
    "* One can interact with Operating System using Jupyter based interface in Colab.\n",
    "* All libraries that are missing can easily be installed in Colab environment."
   ]
  },
  {
   "cell_type": "markdown",
   "metadata": {},
   "source": [
    "### Tasks\n",
    "Here are the tasks that need to be performed to get comfortable with Colab.\n",
    "* Signing up to colab\n",
    "* Creating new notebook and running code\n",
    "* Importing notebooks from Git and validate them\n",
    "* Uploadng Datasets or accessing from Google Drive\n",
    "* Uploading new notebook using Colab\n",
    "* Installing missing libraries\n",
    "* Running OS commands"
   ]
  },
  {
   "cell_type": "markdown",
   "metadata": {},
   "source": []
  },
  {
   "cell_type": "markdown",
   "metadata": {},
   "source": [
    "### Tasks\n",
    "Here are the tasks that need to be performed to get comfortable with Colab.\n",
    "* Signing up to colab\n",
    "* Creating new notebook and running code\n",
    "* Importing notebooks from Git and validate them\n",
    "* Uploadng Datasets or accessing from Google Drive\n",
    "* Uploading new notebook using Colab\n",
    "* Installing missing libraries\n",
    "* Running OS commands"
   ]
  },
  {
   "cell_type": "code",
   "execution_count": null,
   "metadata": {},
   "outputs": [],
   "source": []
  }
 ],
 "metadata": {
  "kernelspec": {
   "display_name": "Python 3",
   "language": "python",
   "name": "python3"
  },
  "language_info": {
   "codemirror_mode": {
    "name": "ipython",
    "version": 3
   },
   "file_extension": ".py",
   "mimetype": "text/x-python",
   "name": "python",
   "nbconvert_exporter": "python",
   "pygments_lexer": "ipython3",
   "version": "3.6.12"
  }
 },
 "nbformat": 4,
 "nbformat_minor": 4
}
