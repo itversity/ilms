{
 "cells": [
  {
   "cell_type": "markdown",
   "metadata": {
    "pycharm": {
     "name": "#%% md"
    }
   },
   "source": [
    "# Manipulating Collections using Loops – 2\n",
    "\n",
    "Let continue on manipulating collections using loops. We will primarily focus on a bit of advanced transformations.\n",
    "\n",
    "* Preparing Data Sets\n",
    "* Quick Recap of Dict Operations\n",
    "* Performing Aggregations – 1\n",
    "* Performing Aggregations – 2\n",
    "* Joining Data Sets – 1\n",
    "* Joining Data Sets – 2\n",
    "* Limitations of using Loops\n",
    "* Exercises"
   ]
  },
  {
   "cell_type": "markdown",
   "metadata": {},
   "source": [
    "## Preparing Data Sets\n",
    "\n",
    "We will be primarily using orders and order_items data set to understand about manipulating collections.\n",
    "* orders is available at path **/Users/itversity/Research/data/retail_db/orders/part-00000**\n",
    "* order_items is available at path **/Users/itversity/Research/data/retail_db/orders/part-00000**\n",
    "* orders - columns\n",
    "  * order_id - it is of type integer and unique\n",
    "  * order_date - it can be considered as string\n",
    "  * order_customer_id - it is of type integer\n",
    "  * order_status - it is of type string\n",
    "* order_items - columns\n",
    "  * order_item_id - it is of type integer and unique\n",
    "  * order_item_order_id - it is of type integer and refers to orders.order_id\n",
    "  * order_item_product_id - it is of type integer and refers to products.product_id\n",
    "  * order_item_quantity - it is of type integer and represents number of products as an order item with in an order.\n",
    "  * order_item_subtotal - it is item level revenue (product of order_item_quantity and order_item_product_price)\n",
    "  * order_item_product_price - it is product price for each item with in an order.\n",
    "* orders is parent data set to order_items and will contain one record per order. Each order can contain multiple items.\n",
    "* order_items is child data set to orders and can contain multiple entries for a given order_item_order_id."
   ]
  },
  {
   "cell_type": "markdown",
   "metadata": {},
   "source": [
    "### Task 1 - Read orders into collection\n",
    "Let us read orders data set into the collection called as **orders**. This will be used later."
   ]
  },
  {
   "cell_type": "code",
   "execution_count": null,
   "metadata": {},
   "outputs": [],
   "source": [
    "orders_path = '/Users/itversity/Research/data/retail_db/orders/part-00000'\n",
    "# C:\\\\users\\\\itversity\\\\Research\n",
    "orders_file = open(orders_path)"
   ]
  },
  {
   "cell_type": "code",
   "execution_count": null,
   "metadata": {},
   "outputs": [],
   "source": [
    "orders_raw = orders_file.read()"
   ]
  },
  {
   "cell_type": "code",
   "execution_count": null,
   "metadata": {},
   "outputs": [],
   "source": [
    "orders = orders_raw.splitlines()"
   ]
  },
  {
   "cell_type": "code",
   "execution_count": null,
   "metadata": {},
   "outputs": [],
   "source": [
    "orders[:10]"
   ]
  },
  {
   "cell_type": "code",
   "execution_count": null,
   "metadata": {},
   "outputs": [],
   "source": [
    "len(orders) # same as number of records in the file"
   ]
  },
  {
   "cell_type": "markdown",
   "metadata": {},
   "source": [
    "### Task 1 - Read order_items into collection\n",
    "Let us read order_items data set into the collection called as **order_items**. This will be used later."
   ]
  },
  {
   "cell_type": "code",
   "execution_count": null,
   "metadata": {},
   "outputs": [],
   "source": [
    "order_items_path = '/Users/itversity/Research/data/retail_db/order_items/part-00000'\n",
    "# C:\\\\users\\\\itversity\\\\Research\n",
    "order_items_file = open(order_items_path)"
   ]
  },
  {
   "cell_type": "code",
   "execution_count": null,
   "metadata": {},
   "outputs": [],
   "source": [
    "order_items_raw = order_items_file.read()"
   ]
  },
  {
   "cell_type": "code",
   "execution_count": null,
   "metadata": {},
   "outputs": [],
   "source": [
    "order_items = order_items_raw.splitlines()"
   ]
  },
  {
   "cell_type": "code",
   "execution_count": null,
   "metadata": {},
   "outputs": [],
   "source": [
    "order_items[:10]"
   ]
  },
  {
   "cell_type": "code",
   "execution_count": null,
   "metadata": {},
   "outputs": [],
   "source": [
    "len(order_items) # same as number of records in the file"
   ]
  },
  {
   "cell_type": "markdown",
   "metadata": {},
   "source": [
    "## Quick Recap of Dict Operations\n",
    "\n",
    "Let us recap some of the important concepts and operations related to `dict`. We will primarily focus on those operations which are important for aggregations and joins.\n",
    "* `dict` contains heterogeneous type of elements.\n",
    "* Typically it is used to represent a row in a table or a sheet.\n",
    "* Each and every element in a `dict` contains key value pair where key is typically column name.\n",
    "* Here are the common `dict` operations relevant to aggregrations and joins.\n",
    "  * Adding elements to the dict\n",
    "  * Checking if the key exists\n",
    "  * Getting value for a given key\n",
    "  * Updating value if the key exists"
   ]
  },
  {
   "cell_type": "code",
   "execution_count": null,
   "metadata": {},
   "outputs": [],
   "source": [
    "order_count_by_date = {}"
   ]
  },
  {
   "cell_type": "code",
   "execution_count": null,
   "metadata": {},
   "outputs": [],
   "source": [
    "# Adding elements in dict\n",
    "order_count_by_date['2014-01-01'] = 1\n",
    "order_count_by_date['2014-01-02'] = 1\n",
    "order_count_by_date['2014-01-03'] = 1"
   ]
  },
  {
   "cell_type": "code",
   "execution_count": null,
   "metadata": {},
   "outputs": [],
   "source": [
    "order_count_by_date"
   ]
  },
  {
   "cell_type": "code",
   "execution_count": null,
   "metadata": {},
   "outputs": [],
   "source": [
    "# Checking if element exists in dict\n",
    "'2014-01-01' in order_count_by_date"
   ]
  },
  {
   "cell_type": "code",
   "execution_count": null,
   "metadata": {},
   "outputs": [],
   "source": [
    "'2014-01-04' in order_count_by_date"
   ]
  },
  {
   "cell_type": "code",
   "execution_count": null,
   "metadata": {},
   "outputs": [],
   "source": [
    "# Getting value for a given key\n",
    "order_count_by_date['2014-01-01']"
   ]
  },
  {
   "cell_type": "code",
   "execution_count": null,
   "metadata": {},
   "outputs": [],
   "source": [
    "order_count_by_date['2014-01-04'] # Throws KeyError exception"
   ]
  },
  {
   "cell_type": "code",
   "execution_count": null,
   "metadata": {},
   "outputs": [],
   "source": [
    "order_count_by_date.get('2014-01-01')"
   ]
  },
  {
   "cell_type": "code",
   "execution_count": null,
   "metadata": {},
   "outputs": [],
   "source": [
    "order_count_by_date.get('2014-01-04') # Returns None"
   ]
  },
  {
   "cell_type": "code",
   "execution_count": null,
   "metadata": {},
   "outputs": [],
   "source": [
    "# Updating value\n",
    "order_count_by_date['2014-01-01'] = 2"
   ]
  },
  {
   "cell_type": "code",
   "execution_count": null,
   "metadata": {},
   "outputs": [],
   "source": [
    "order_count_by_date"
   ]
  },
  {
   "cell_type": "code",
   "execution_count": null,
   "metadata": {},
   "outputs": [],
   "source": [
    "order_count_by_date['2014-01-01'] += 1 # Incrementing the existing value for a given key"
   ]
  },
  {
   "cell_type": "code",
   "execution_count": null,
   "metadata": {},
   "outputs": [],
   "source": [
    "order_count_by_date"
   ]
  },
  {
   "cell_type": "code",
   "execution_count": null,
   "metadata": {},
   "outputs": [],
   "source": [
    "order_count_by_date.update({'2014-01-02': 2}) # Alternate way to update an existing element value in dict"
   ]
  },
  {
   "cell_type": "code",
   "execution_count": null,
   "metadata": {},
   "outputs": [],
   "source": [
    "order_count_by_date"
   ]
  },
  {
   "cell_type": "markdown",
   "metadata": {},
   "source": [
    "## Performing Total Aggregations\n",
    "\n",
    "We have pre-existing functions to take care of aggregations such as `len`, `sum`, `min`, `max` etc. Let us understand how they are typically implemented."
   ]
  },
  {
   "cell_type": "markdown",
   "metadata": {},
   "source": [
    "### Task 1\n",
    "Use orders and get total number of records for a given month (201401). \n",
    "* Develop a function which take orders collection and month as arguments.\n",
    "* Month will be passed as integer in the form of yyyyMM (example 201401).\n",
    "* Return the order count"
   ]
  },
  {
   "cell_type": "code",
   "execution_count": null,
   "metadata": {},
   "outputs": [],
   "source": [
    "orders[:10]"
   ]
  },
  {
   "cell_type": "code",
   "execution_count": null,
   "metadata": {},
   "outputs": [],
   "source": [
    "order = '1,2013-07-25 00:00:00.0,11599,CLOSED'"
   ]
  },
  {
   "cell_type": "code",
   "execution_count": null,
   "metadata": {},
   "outputs": [],
   "source": [
    "order.split(',')"
   ]
  },
  {
   "cell_type": "code",
   "execution_count": null,
   "metadata": {},
   "outputs": [],
   "source": [
    "order.split(',')[1]"
   ]
  },
  {
   "cell_type": "code",
   "execution_count": null,
   "metadata": {},
   "outputs": [],
   "source": [
    "order.split(',')[:7]"
   ]
  },
  {
   "cell_type": "code",
   "execution_count": null,
   "metadata": {},
   "outputs": [],
   "source": [
    "order.split(',')[1][:7].replace('-', '')"
   ]
  },
  {
   "cell_type": "code",
   "execution_count": null,
   "metadata": {},
   "outputs": [],
   "source": [
    "int(order.split(',')[1][:7].replace('-', ''))"
   ]
  },
  {
   "cell_type": "code",
   "execution_count": null,
   "metadata": {},
   "outputs": [],
   "source": [
    "def get_order_count(orders, order_month):\n",
    "    order_count = 0\n",
    "    for order in orders:\n",
    "        l_order_month = int(order.split(',')[1][:7].replace('-', ''))\n",
    "        if l_order_month == order_month: order_count += 1\n",
    "    return order_count"
   ]
  },
  {
   "cell_type": "code",
   "execution_count": null,
   "metadata": {},
   "outputs": [],
   "source": [
    "get_order_count(orders, 201401)"
   ]
  },
  {
   "cell_type": "markdown",
   "metadata": {},
   "source": [
    "### Task 2\n",
    "\n",
    "Use order items data set and compute total revenue generated for a given product_id.\n",
    "* Define a function which takes order_items and a product_id as arguments.\n",
    "* product_id will be passed as integer\n",
    "* Compute revenue generated for a given product id using subtotal (5th field)\n",
    "* Return the computed product revenue"
   ]
  },
  {
   "cell_type": "code",
   "execution_count": null,
   "metadata": {},
   "outputs": [],
   "source": [
    "order_items[:10]"
   ]
  },
  {
   "cell_type": "code",
   "execution_count": null,
   "metadata": {},
   "outputs": [],
   "source": [
    "order_item = '1,1,957,1,299.98,299.98'"
   ]
  },
  {
   "cell_type": "code",
   "execution_count": null,
   "metadata": {},
   "outputs": [],
   "source": [
    "order_item.split(',')"
   ]
  },
  {
   "cell_type": "code",
   "execution_count": null,
   "metadata": {},
   "outputs": [],
   "source": [
    "order_item.split(',')[2]"
   ]
  },
  {
   "cell_type": "code",
   "execution_count": null,
   "metadata": {},
   "outputs": [],
   "source": [
    "int(order_item.split(',')[2])"
   ]
  },
  {
   "cell_type": "code",
   "execution_count": null,
   "metadata": {},
   "outputs": [],
   "source": [
    "float(order_item.split(',')[4])"
   ]
  },
  {
   "cell_type": "code",
   "execution_count": null,
   "metadata": {},
   "outputs": [],
   "source": [
    "def get_product_revenue(order_items, product_id):\n",
    "    product_revenue = 0.0\n",
    "    for order_item in order_items:\n",
    "        l_product_id = int(order_item.split(',')[2])\n",
    "        order_item_subtotal = float(order_item.split(',')[4])\n",
    "        if l_product_id == product_id: product_revenue += order_item_subtotal\n",
    "    return product_revenue"
   ]
  },
  {
   "cell_type": "code",
   "execution_count": null,
   "metadata": {},
   "outputs": [],
   "source": [
    "get_product_revenue(order_items, 502)"
   ]
  },
  {
   "cell_type": "markdown",
   "metadata": {},
   "source": [
    "### Task 3\n",
    "\n",
    "Use order items data set and get total number of items sold as well as total revenue generated for a given product_id.\n",
    "* Define a function which takes order_items and a product_id as arguments.\n",
    "* product_id will be passed as integer\n",
    "* Get number of items sold for a given product id using quantity (4th field)\n",
    "* Compute revenue generated for a given product id using subtotal (5th field)\n",
    "* Return the number of items sold as well as revenue generated"
   ]
  },
  {
   "cell_type": "code",
   "execution_count": null,
   "metadata": {},
   "outputs": [],
   "source": [
    "t1 = (1, 200.0)"
   ]
  },
  {
   "cell_type": "code",
   "execution_count": null,
   "metadata": {},
   "outputs": [],
   "source": [
    "t2 = (2, 300.0)"
   ]
  },
  {
   "cell_type": "code",
   "execution_count": null,
   "metadata": {},
   "outputs": [],
   "source": [
    "res = (0, 0.0)"
   ]
  },
  {
   "cell_type": "code",
   "execution_count": null,
   "metadata": {},
   "outputs": [],
   "source": [
    "res = (res[0] + t1[0], res[1] + t1[1])"
   ]
  },
  {
   "cell_type": "code",
   "execution_count": null,
   "metadata": {},
   "outputs": [],
   "source": [
    "res"
   ]
  },
  {
   "cell_type": "code",
   "execution_count": null,
   "metadata": {},
   "outputs": [],
   "source": [
    "res = (res[0] + t2[0], res[1] + t2[1])"
   ]
  },
  {
   "cell_type": "code",
   "execution_count": null,
   "metadata": {},
   "outputs": [],
   "source": [
    "res"
   ]
  },
  {
   "cell_type": "code",
   "execution_count": null,
   "metadata": {},
   "outputs": [],
   "source": [
    "def get_product_metrics(order_items, product_id):\n",
    "    product_metrics = (0, 0.0)\n",
    "    for order_item in order_items:\n",
    "        l_product_id = int(order_item.split(',')[2])\n",
    "        order_metric = (int(order_item.split(',')[3]), float(order_item.split(',')[4]))\n",
    "        if l_product_id == product_id: \n",
    "            product_metrics = (product_metrics[0] + order_metric[0], product_metrics[1] + order_metric[1])\n",
    "    return product_metrics"
   ]
  },
  {
   "cell_type": "code",
   "execution_count": null,
   "metadata": {},
   "outputs": [],
   "source": [
    "get_product_metrics(order_items, 502)"
   ]
  },
  {
   "cell_type": "markdown",
   "metadata": {},
   "source": [
    "### Task 4\n",
    "\n",
    "Create a collection with sales and commission percentage. Using that collection compute total commission amount. If the commission percent is None or not present, treat it as 0.\n",
    "* Each element in the collection should be a tuple.\n",
    "* First element is the sales amount and second element is commission percentage.\n",
    "* Commission for each sale can be computed by multiplying commission percentage with sales (make sure to divide commission percentage by 100).\n",
    "* Some of the records does not have commission percentage, in that case commission amount for that sale shall be 0\n",
    "* Function should take a collection of tuples and return commission amount which is of type float."
   ]
  },
  {
   "cell_type": "code",
   "execution_count": null,
   "metadata": {},
   "outputs": [],
   "source": [
    "transactions = [(376.0, 8),\n",
    "(548.23, 14),\n",
    "(107.93, 8),\n",
    "(838.22, 14),\n",
    "(846.85, 21),\n",
    "(234.84,),\n",
    "(850.2, 21),\n",
    "(992.2, 21),\n",
    "(267.01,),\n",
    "(958.91, 21),\n",
    "(412.59,),\n",
    "(283.14,),\n",
    "(350.01, 14),\n",
    "(226.95,),\n",
    "(132.7, 14)]"
   ]
  },
  {
   "cell_type": "code",
   "execution_count": null,
   "metadata": {},
   "outputs": [],
   "source": [
    "transactions[:6]"
   ]
  },
  {
   "cell_type": "code",
   "execution_count": null,
   "metadata": {},
   "outputs": [],
   "source": [
    "sale = (376.0, 8)"
   ]
  },
  {
   "cell_type": "code",
   "execution_count": null,
   "metadata": {},
   "outputs": [],
   "source": [
    "sale_amount = round(sale[0] * (sale[1] / 100), 2)"
   ]
  },
  {
   "cell_type": "code",
   "execution_count": null,
   "metadata": {},
   "outputs": [],
   "source": [
    "sale_amount"
   ]
  },
  {
   "cell_type": "code",
   "execution_count": null,
   "metadata": {},
   "outputs": [],
   "source": [
    "sale = (234.84,)"
   ]
  },
  {
   "cell_type": "code",
   "execution_count": null,
   "metadata": {},
   "outputs": [],
   "source": [
    "sale_amount = round(sale[0] * (sale[1] / 100), 2) # errors out"
   ]
  },
  {
   "cell_type": "code",
   "execution_count": null,
   "metadata": {},
   "outputs": [],
   "source": [
    "len(sale)"
   ]
  },
  {
   "cell_type": "code",
   "execution_count": null,
   "metadata": {},
   "outputs": [],
   "source": [
    "commission_pct = sale[1] / 100 if len(sale) == 2 else 0"
   ]
  },
  {
   "cell_type": "code",
   "execution_count": null,
   "metadata": {},
   "outputs": [],
   "source": [
    "commission_pct"
   ]
  },
  {
   "cell_type": "code",
   "execution_count": null,
   "metadata": {},
   "outputs": [],
   "source": [
    "def get_commission_amount(sales):\n",
    "    commission_amount = 0.0\n",
    "    for sale in sales:\n",
    "        sale_amount = sale[0]\n",
    "        commission_pct = round(sale[1]/100, 2) if len(sale) == 2 else 0\n",
    "        commission_amount += sale_amount * commission_pct\n",
    "    return round(commission_amount, 2)"
   ]
  },
  {
   "cell_type": "code",
   "execution_count": null,
   "metadata": {},
   "outputs": [],
   "source": [
    "get_commission_amount(transactions)"
   ]
  },
  {
   "cell_type": "markdown",
   "metadata": {},
   "source": [
    "## Performing Aggregations - Grouped\n",
    "\n",
    "Here are some of the examples for grouped aggregations.\n",
    "* Get number of employees for each department\n",
    "* Get daily revenue for a given month (aggregation for a given day and filtering based up on month).\n",
    "* Number of courses enrolled by each student\n",
    "* Number of students enrolled for each course"
   ]
  },
  {
   "cell_type": "markdown",
   "metadata": {},
   "source": [
    "## Joining Data Sets – 1"
   ]
  },
  {
   "cell_type": "markdown",
   "metadata": {},
   "source": [
    "## Joining Data Sets – 2"
   ]
  },
  {
   "cell_type": "markdown",
   "metadata": {},
   "source": [
    "## Limitations of using Loops"
   ]
  },
  {
   "cell_type": "markdown",
   "metadata": {},
   "source": [
    "## Exercises"
   ]
  }
 ],
 "metadata": {
  "kernelspec": {
   "display_name": "Python 3",
   "language": "python",
   "name": "python3"
  },
  "language_info": {
   "codemirror_mode": {
    "name": "ipython",
    "version": 3
   },
   "file_extension": ".py",
   "mimetype": "text/x-python",
   "name": "python",
   "nbconvert_exporter": "python",
   "pygments_lexer": "ipython3",
   "version": "3.6.12"
  }
 },
 "nbformat": 4,
 "nbformat_minor": 4
}
