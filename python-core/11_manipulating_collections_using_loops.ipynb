{
 "cells": [
  {
   "cell_type": "markdown",
   "metadata": {
    "pycharm": {
     "name": "#%% md"
    }
   },
   "source": [
    "# Manipulating Collections using Loops – 1\n",
    "\n",
    "* Reading files into collections\n",
    "* Overview of Standard Transformations\n",
    "* Row level transformations\n",
    "* Getting unique elements\n",
    "* Filtering Data\n",
    "* Exercises"
   ]
  },
  {
   "cell_type": "markdown",
   "metadata": {},
   "source": [
    "## Reading files into collections\n",
    "\n",
    "Let us understand how to read data from files into collections.\n",
    "* Python have simple and yet rich APIs to perform file I/O\n",
    "* We can create a file object with open in different modes (by default read only mode)\n",
    "* To read the contents from the file into memory, we have APIs on top of file object such as read()\n",
    "* read() will create large string using contents of the files\n",
    "* If the data have multiple records with new line character as delimiter, we can apply splitlines() on the output of read\n",
    "* splitlines() will convert the string into list with new line character as delimiter"
   ]
  },
  {
   "cell_type": "code",
   "execution_count": 5,
   "metadata": {},
   "outputs": [],
   "source": [
    "path = '/Users/itversity/Research/data/retail_db/orders/part-00000'\n",
    "# C:\\\\users\\\\itversity\\\\Research\n",
    "orders_file = open(path)"
   ]
  },
  {
   "cell_type": "code",
   "execution_count": 6,
   "metadata": {},
   "outputs": [],
   "source": [
    "orders_raw = orders_file.read()"
   ]
  },
  {
   "cell_type": "code",
   "execution_count": 7,
   "metadata": {},
   "outputs": [],
   "source": [
    "orders = orders_raw.splitlines()"
   ]
  },
  {
   "cell_type": "code",
   "execution_count": 8,
   "metadata": {},
   "outputs": [
    {
     "data": {
      "text/plain": [
       "['1,2013-07-25 00:00:00.0,11599,CLOSED',\n",
       " '2,2013-07-25 00:00:00.0,256,PENDING_PAYMENT',\n",
       " '3,2013-07-25 00:00:00.0,12111,COMPLETE',\n",
       " '4,2013-07-25 00:00:00.0,8827,CLOSED',\n",
       " '5,2013-07-25 00:00:00.0,11318,COMPLETE',\n",
       " '6,2013-07-25 00:00:00.0,7130,COMPLETE',\n",
       " '7,2013-07-25 00:00:00.0,4530,COMPLETE',\n",
       " '8,2013-07-25 00:00:00.0,2911,PROCESSING',\n",
       " '9,2013-07-25 00:00:00.0,5657,PENDING_PAYMENT',\n",
       " '10,2013-07-25 00:00:00.0,5648,PENDING_PAYMENT']"
      ]
     },
     "execution_count": 8,
     "metadata": {},
     "output_type": "execute_result"
    }
   ],
   "source": [
    "orders[:10]"
   ]
  },
  {
   "cell_type": "code",
   "execution_count": 9,
   "metadata": {},
   "outputs": [
    {
     "data": {
      "text/plain": [
       "68883"
      ]
     },
     "execution_count": 9,
     "metadata": {},
     "output_type": "execute_result"
    }
   ],
   "source": [
    "len(orders) # same as number of records in the file"
   ]
  },
  {
   "cell_type": "markdown",
   "metadata": {},
   "source": [
    "## Overview of Standard Transformations\n",
    "\n",
    "Let us understand standard transformations we perform on top of data in collections.\n",
    "* Filtering\n",
    "* Row level transformations such as standardization, cleansing etc.\n",
    "* Aggregations\n",
    "* Grouped Aggregations\n",
    "* Sorting and Ranking\n",
    "\n",
    "Typically we use external libraries such as Pandas, Pyspark etc to perform these standard transformations. However, we will try to develop using conventional loops to understand how they are implemented and also to get better with respect to programming."
   ]
  },
  {
   "cell_type": "markdown",
   "metadata": {},
   "source": [
    "## Row level transformations\n",
    "\n",
    "Here are the details about orders.\n",
    "* Data is in text file format\n",
    "* Each line in the file contains one record.\n",
    "* Each record contains 4 attributes which are separated by “,”\n",
    "  * order_id\n",
    "  * order_date\n",
    "  * order_customer_id\n",
    "  * order_status"
   ]
  },
  {
   "cell_type": "markdown",
   "metadata": {},
   "source": [
    "### Task 1\n",
    "\n",
    "Get all order ids and associated statuses. Each record in the output should be comma separated string."
   ]
  },
  {
   "cell_type": "code",
   "execution_count": 10,
   "metadata": {},
   "outputs": [],
   "source": [
    "order = '1,2013-07-25 00:00:00.0,11599,CLOSED'"
   ]
  },
  {
   "cell_type": "code",
   "execution_count": 11,
   "metadata": {},
   "outputs": [
    {
     "data": {
      "text/plain": [
       "\u001b[0;31mSignature:\u001b[0m \u001b[0morder\u001b[0m\u001b[0;34m.\u001b[0m\u001b[0mjoin\u001b[0m\u001b[0;34m(\u001b[0m\u001b[0miterable\u001b[0m\u001b[0;34m,\u001b[0m \u001b[0;34m/\u001b[0m\u001b[0;34m)\u001b[0m\u001b[0;34m\u001b[0m\u001b[0;34m\u001b[0m\u001b[0m\n",
       "\u001b[0;31mDocstring:\u001b[0m\n",
       "Concatenate any number of strings.\n",
       "\n",
       "The string whose method is called is inserted in between each given string.\n",
       "The result is returned as a new string.\n",
       "\n",
       "Example: '.'.join(['ab', 'pq', 'rs']) -> 'ab.pq.rs'\n",
       "\u001b[0;31mType:\u001b[0m      builtin_function_or_method\n"
      ]
     },
     "metadata": {},
     "output_type": "display_data"
    }
   ],
   "source": [
    "order.join?"
   ]
  },
  {
   "cell_type": "code",
   "execution_count": 12,
   "metadata": {},
   "outputs": [
    {
     "data": {
      "text/plain": [
       "'1,CLOSED'"
      ]
     },
     "execution_count": 12,
     "metadata": {},
     "output_type": "execute_result"
    }
   ],
   "source": [
    "','.join([order.split(',')[0], order.split(',')[3]])"
   ]
  },
  {
   "cell_type": "code",
   "execution_count": 13,
   "metadata": {},
   "outputs": [],
   "source": [
    "order_statuses = []\n",
    "for order in orders:\n",
    "    order_statuses.append(','.join([order.split(',')[0], order.split(',')[3]]))"
   ]
  },
  {
   "cell_type": "code",
   "execution_count": 14,
   "metadata": {},
   "outputs": [
    {
     "data": {
      "text/plain": [
       "['1,CLOSED',\n",
       " '2,PENDING_PAYMENT',\n",
       " '3,COMPLETE',\n",
       " '4,CLOSED',\n",
       " '5,COMPLETE',\n",
       " '6,COMPLETE',\n",
       " '7,COMPLETE',\n",
       " '8,PROCESSING',\n",
       " '9,PENDING_PAYMENT',\n",
       " '10,PENDING_PAYMENT']"
      ]
     },
     "execution_count": 14,
     "metadata": {},
     "output_type": "execute_result"
    }
   ],
   "source": [
    "order_statuses[:10]"
   ]
  },
  {
   "cell_type": "code",
   "execution_count": 15,
   "metadata": {},
   "outputs": [
    {
     "data": {
      "text/plain": [
       "68883"
      ]
     },
     "execution_count": 15,
     "metadata": {},
     "output_type": "execute_result"
    }
   ],
   "source": [
    "len(order_statuses)"
   ]
  },
  {
   "cell_type": "code",
   "execution_count": 16,
   "metadata": {},
   "outputs": [],
   "source": [
    "order_statuses = [','.join([order.split(',')[0], order.split(',')[3]]) for order in orders] # alternative solution"
   ]
  },
  {
   "cell_type": "code",
   "execution_count": 17,
   "metadata": {},
   "outputs": [
    {
     "data": {
      "text/plain": [
       "['1,CLOSED',\n",
       " '2,PENDING_PAYMENT',\n",
       " '3,COMPLETE',\n",
       " '4,CLOSED',\n",
       " '5,COMPLETE',\n",
       " '6,COMPLETE',\n",
       " '7,COMPLETE',\n",
       " '8,PROCESSING',\n",
       " '9,PENDING_PAYMENT',\n",
       " '10,PENDING_PAYMENT']"
      ]
     },
     "execution_count": 17,
     "metadata": {},
     "output_type": "execute_result"
    }
   ],
   "source": [
    "order_statuses[:10]"
   ]
  },
  {
   "cell_type": "code",
   "execution_count": 18,
   "metadata": {},
   "outputs": [
    {
     "data": {
      "text/plain": [
       "68883"
      ]
     },
     "execution_count": 18,
     "metadata": {},
     "output_type": "execute_result"
    }
   ],
   "source": [
    "len(order_statuses)"
   ]
  },
  {
   "cell_type": "markdown",
   "metadata": {},
   "source": [
    "### Task 2\n",
    "\n",
    "Get all order ids, the dates on which order is placed and order status. Each record in the output should be dict with following column names as keys.\n",
    "* order_id\n",
    "* order_date\n",
    "* order_status"
   ]
  },
  {
   "cell_type": "code",
   "execution_count": 21,
   "metadata": {},
   "outputs": [],
   "source": [
    "def get_order_details(order):\n",
    "    \"\"\"Extract order details such as id, date as well as status and return as dict\"\"\"\n",
    "    order_values = order.split(',')\n",
    "    return ({\n",
    "        'order_id': int(order_values[0]),\n",
    "        'order_date': order_values[1],\n",
    "        'order_status': order_values[3]\n",
    "    })"
   ]
  },
  {
   "cell_type": "code",
   "execution_count": 22,
   "metadata": {},
   "outputs": [
    {
     "data": {
      "text/plain": [
       "{'order_id': 1,\n",
       " 'order_date': '2013-07-25 00:00:00.0',\n",
       " 'order_status': 'CLOSED'}"
      ]
     },
     "execution_count": 22,
     "metadata": {},
     "output_type": "execute_result"
    }
   ],
   "source": [
    "get_order_details('1,2013-07-25 00:00:00.0,11599,CLOSED')"
   ]
  },
  {
   "cell_type": "code",
   "execution_count": 23,
   "metadata": {},
   "outputs": [],
   "source": [
    "order_details = []\n",
    "for order in orders:\n",
    "    order_details.append(get_order_details(order))"
   ]
  },
  {
   "cell_type": "code",
   "execution_count": 24,
   "metadata": {},
   "outputs": [
    {
     "data": {
      "text/plain": [
       "[{'order_id': 1,\n",
       "  'order_date': '2013-07-25 00:00:00.0',\n",
       "  'order_status': 'CLOSED'},\n",
       " {'order_id': 2,\n",
       "  'order_date': '2013-07-25 00:00:00.0',\n",
       "  'order_status': 'PENDING_PAYMENT'},\n",
       " {'order_id': 3,\n",
       "  'order_date': '2013-07-25 00:00:00.0',\n",
       "  'order_status': 'COMPLETE'},\n",
       " {'order_id': 4,\n",
       "  'order_date': '2013-07-25 00:00:00.0',\n",
       "  'order_status': 'CLOSED'},\n",
       " {'order_id': 5,\n",
       "  'order_date': '2013-07-25 00:00:00.0',\n",
       "  'order_status': 'COMPLETE'},\n",
       " {'order_id': 6,\n",
       "  'order_date': '2013-07-25 00:00:00.0',\n",
       "  'order_status': 'COMPLETE'},\n",
       " {'order_id': 7,\n",
       "  'order_date': '2013-07-25 00:00:00.0',\n",
       "  'order_status': 'COMPLETE'},\n",
       " {'order_id': 8,\n",
       "  'order_date': '2013-07-25 00:00:00.0',\n",
       "  'order_status': 'PROCESSING'},\n",
       " {'order_id': 9,\n",
       "  'order_date': '2013-07-25 00:00:00.0',\n",
       "  'order_status': 'PENDING_PAYMENT'},\n",
       " {'order_id': 10,\n",
       "  'order_date': '2013-07-25 00:00:00.0',\n",
       "  'order_status': 'PENDING_PAYMENT'}]"
      ]
     },
     "execution_count": 24,
     "metadata": {},
     "output_type": "execute_result"
    }
   ],
   "source": [
    "order_details[:10]"
   ]
  },
  {
   "cell_type": "code",
   "execution_count": 25,
   "metadata": {},
   "outputs": [
    {
     "data": {
      "text/plain": [
       "68883"
      ]
     },
     "execution_count": 25,
     "metadata": {},
     "output_type": "execute_result"
    }
   ],
   "source": [
    "len(order_details)"
   ]
  },
  {
   "cell_type": "code",
   "execution_count": 26,
   "metadata": {},
   "outputs": [],
   "source": [
    "order_details = [get_order_details(order) for order in orders]"
   ]
  },
  {
   "cell_type": "code",
   "execution_count": 27,
   "metadata": {},
   "outputs": [
    {
     "data": {
      "text/plain": [
       "[{'order_id': 1,\n",
       "  'order_date': '2013-07-25 00:00:00.0',\n",
       "  'order_status': 'CLOSED'},\n",
       " {'order_id': 2,\n",
       "  'order_date': '2013-07-25 00:00:00.0',\n",
       "  'order_status': 'PENDING_PAYMENT'},\n",
       " {'order_id': 3,\n",
       "  'order_date': '2013-07-25 00:00:00.0',\n",
       "  'order_status': 'COMPLETE'},\n",
       " {'order_id': 4,\n",
       "  'order_date': '2013-07-25 00:00:00.0',\n",
       "  'order_status': 'CLOSED'},\n",
       " {'order_id': 5,\n",
       "  'order_date': '2013-07-25 00:00:00.0',\n",
       "  'order_status': 'COMPLETE'},\n",
       " {'order_id': 6,\n",
       "  'order_date': '2013-07-25 00:00:00.0',\n",
       "  'order_status': 'COMPLETE'},\n",
       " {'order_id': 7,\n",
       "  'order_date': '2013-07-25 00:00:00.0',\n",
       "  'order_status': 'COMPLETE'},\n",
       " {'order_id': 8,\n",
       "  'order_date': '2013-07-25 00:00:00.0',\n",
       "  'order_status': 'PROCESSING'},\n",
       " {'order_id': 9,\n",
       "  'order_date': '2013-07-25 00:00:00.0',\n",
       "  'order_status': 'PENDING_PAYMENT'},\n",
       " {'order_id': 10,\n",
       "  'order_date': '2013-07-25 00:00:00.0',\n",
       "  'order_status': 'PENDING_PAYMENT'}]"
      ]
     },
     "execution_count": 27,
     "metadata": {},
     "output_type": "execute_result"
    }
   ],
   "source": [
    "order_details[:10]"
   ]
  },
  {
   "cell_type": "code",
   "execution_count": 28,
   "metadata": {},
   "outputs": [
    {
     "data": {
      "text/plain": [
       "68883"
      ]
     },
     "execution_count": 28,
     "metadata": {},
     "output_type": "execute_result"
    }
   ],
   "source": [
    "len(order_details)"
   ]
  },
  {
   "cell_type": "markdown",
   "metadata": {},
   "source": [
    "## Getting unique elements\n",
    "\n",
    "Let us perform few tasks to understand how to extract unique elements.\n",
    "* We can create a list of elements first and then convert into a set.\n",
    "* We can also build set directly while extracting the information."
   ]
  },
  {
   "cell_type": "markdown",
   "metadata": {},
   "source": [
    "### Task 1\n",
    "\n",
    "Get all the unique dates from orders data."
   ]
  },
  {
   "cell_type": "code",
   "execution_count": 39,
   "metadata": {},
   "outputs": [],
   "source": [
    "order_dates = set()\n",
    "for order in orders:\n",
    "    order_dates.add(order.split(',')[1])"
   ]
  },
  {
   "cell_type": "code",
   "execution_count": 40,
   "metadata": {},
   "outputs": [
    {
     "data": {
      "text/plain": [
       "['2014-01-25 00:00:00.0',\n",
       " '2014-04-08 00:00:00.0',\n",
       " '2014-01-01 00:00:00.0',\n",
       " '2013-08-17 00:00:00.0',\n",
       " '2013-08-11 00:00:00.0',\n",
       " '2013-10-01 00:00:00.0',\n",
       " '2013-08-01 00:00:00.0',\n",
       " '2014-05-07 00:00:00.0',\n",
       " '2014-06-02 00:00:00.0',\n",
       " '2013-11-22 00:00:00.0']"
      ]
     },
     "execution_count": 40,
     "metadata": {},
     "output_type": "execute_result"
    }
   ],
   "source": [
    "list(order_dates)[:10]"
   ]
  },
  {
   "cell_type": "code",
   "execution_count": 42,
   "metadata": {},
   "outputs": [
    {
     "data": {
      "text/plain": [
       "364"
      ]
     },
     "execution_count": 42,
     "metadata": {},
     "output_type": "execute_result"
    }
   ],
   "source": [
    "len(order_dates)"
   ]
  },
  {
   "cell_type": "code",
   "execution_count": 33,
   "metadata": {},
   "outputs": [],
   "source": [
    "order_dates = {order.split(',')[1] for order in orders}"
   ]
  },
  {
   "cell_type": "code",
   "execution_count": 35,
   "metadata": {},
   "outputs": [
    {
     "data": {
      "text/plain": [
       "['2014-01-25 00:00:00.0',\n",
       " '2014-04-08 00:00:00.0',\n",
       " '2014-01-01 00:00:00.0',\n",
       " '2013-08-17 00:00:00.0',\n",
       " '2013-08-11 00:00:00.0',\n",
       " '2013-10-01 00:00:00.0',\n",
       " '2013-08-01 00:00:00.0',\n",
       " '2014-05-07 00:00:00.0',\n",
       " '2014-06-02 00:00:00.0',\n",
       " '2013-11-22 00:00:00.0']"
      ]
     },
     "execution_count": 35,
     "metadata": {},
     "output_type": "execute_result"
    }
   ],
   "source": [
    "list(order_dates)[:10]"
   ]
  },
  {
   "cell_type": "code",
   "execution_count": 36,
   "metadata": {},
   "outputs": [
    {
     "data": {
      "text/plain": [
       "364"
      ]
     },
     "execution_count": 36,
     "metadata": {},
     "output_type": "execute_result"
    }
   ],
   "source": [
    "len(order_dates)"
   ]
  },
  {
   "cell_type": "markdown",
   "metadata": {},
   "source": [
    "### Task 2\n",
    "\n",
    "Get all the unique weekend dates from orders data."
   ]
  },
  {
   "cell_type": "code",
   "execution_count": 57,
   "metadata": {},
   "outputs": [],
   "source": [
    "order_date = '2014-01-25 00:00:00.0'"
   ]
  },
  {
   "cell_type": "code",
   "execution_count": 57,
   "metadata": {},
   "outputs": [],
   "source": [
    "import datetime as dt"
   ]
  },
  {
   "cell_type": "code",
   "execution_count": 58,
   "metadata": {},
   "outputs": [
    {
     "data": {
      "text/plain": [
       "datetime.datetime(2014, 1, 25, 0, 0)"
      ]
     },
     "execution_count": 58,
     "metadata": {},
     "output_type": "execute_result"
    }
   ],
   "source": [
    "dt.datetime.strptime(order_date, '%Y-%m-%d %H:%M:%S.%f')"
   ]
  },
  {
   "cell_type": "code",
   "execution_count": 59,
   "metadata": {},
   "outputs": [
    {
     "data": {
      "text/plain": [
       "5"
      ]
     },
     "execution_count": 59,
     "metadata": {},
     "output_type": "execute_result"
    }
   ],
   "source": [
    "dt.datetime.strptime(order_date, '%Y-%m-%d %H:%M:%S.%f').weekday()"
   ]
  },
  {
   "cell_type": "code",
   "execution_count": 61,
   "metadata": {},
   "outputs": [
    {
     "data": {
      "text/plain": [
       "'Saturday'"
      ]
     },
     "execution_count": 61,
     "metadata": {},
     "output_type": "execute_result"
    }
   ],
   "source": [
    "import calendar\n",
    "calendar.day_name[dt.datetime.strptime(order_date, '%Y-%m-%d %H:%M:%S.%f').weekday()]"
   ]
  },
  {
   "cell_type": "code",
   "execution_count": 62,
   "metadata": {},
   "outputs": [
    {
     "data": {
      "text/plain": [
       "'Sat'"
      ]
     },
     "execution_count": 62,
     "metadata": {},
     "output_type": "execute_result"
    }
   ],
   "source": [
    "calendar.day_abbr[dt.datetime.strptime(order_date, '%Y-%m-%d %H:%M:%S.%f').weekday()]"
   ]
  },
  {
   "cell_type": "code",
   "execution_count": 63,
   "metadata": {},
   "outputs": [
    {
     "data": {
      "text/plain": [
       "True"
      ]
     },
     "execution_count": 63,
     "metadata": {},
     "output_type": "execute_result"
    }
   ],
   "source": [
    "dt.datetime.strptime(order_date, '%Y-%m-%d %H:%M:%S.%f').weekday() in (5, 6)"
   ]
  },
  {
   "cell_type": "code",
   "execution_count": 65,
   "metadata": {},
   "outputs": [],
   "source": [
    "import datetime as dt\n",
    "def is_weekend(order_date):\n",
    "    return dt.datetime.strptime(order_date, '%Y-%m-%d %H:%M:%S.%f').weekday() in (5, 6)"
   ]
  },
  {
   "cell_type": "code",
   "execution_count": 66,
   "metadata": {},
   "outputs": [
    {
     "data": {
      "text/plain": [
       "True"
      ]
     },
     "execution_count": 66,
     "metadata": {},
     "output_type": "execute_result"
    }
   ],
   "source": [
    "is_weekend('2014-01-25 00:00:00.0')"
   ]
  },
  {
   "cell_type": "code",
   "execution_count": 69,
   "metadata": {},
   "outputs": [],
   "source": [
    "weekend_dates = set()\n",
    "for order in orders:\n",
    "    order_date = order.split(',')[1]\n",
    "    if is_weekend(order_date):\n",
    "        weekend_dates.add(order_date)"
   ]
  },
  {
   "cell_type": "code",
   "execution_count": 70,
   "metadata": {},
   "outputs": [
    {
     "data": {
      "text/plain": [
       "['2014-01-25 00:00:00.0',\n",
       " '2014-03-16 00:00:00.0',\n",
       " '2014-04-19 00:00:00.0',\n",
       " '2013-11-03 00:00:00.0',\n",
       " '2013-08-17 00:00:00.0',\n",
       " '2013-08-11 00:00:00.0',\n",
       " '2014-02-09 00:00:00.0',\n",
       " '2013-10-27 00:00:00.0',\n",
       " '2013-11-17 00:00:00.0',\n",
       " '2014-07-12 00:00:00.0']"
      ]
     },
     "execution_count": 70,
     "metadata": {},
     "output_type": "execute_result"
    }
   ],
   "source": [
    "list(weekend_dates)[:10]"
   ]
  },
  {
   "cell_type": "code",
   "execution_count": 71,
   "metadata": {},
   "outputs": [
    {
     "data": {
      "text/plain": [
       "103"
      ]
     },
     "execution_count": 71,
     "metadata": {},
     "output_type": "execute_result"
    }
   ],
   "source": [
    "len(weekend_dates)"
   ]
  },
  {
   "cell_type": "markdown",
   "metadata": {},
   "source": [
    "## Filtering Data\n",
    "\n",
    "Let us perform few tasks to understand how to filter the data in collections using loops and conditionals.\n",
    "\n",
    "Here are the details about orders.\n",
    "* Data is in text file format\n",
    "* Each line in the file contains one record.\n",
    "* Each record contains 4 attributes which are separated by “,”\n",
    "  * order_id\n",
    "  * order_date\n",
    "  * order_customer_id\n",
    "  * order_status"
   ]
  },
  {
   "cell_type": "markdown",
   "metadata": {},
   "source": [
    "### Task 1\n",
    "Create a function by name get_customer_orders which take orders list and customer_id as arguments and return all the orders placed by customer_id"
   ]
  },
  {
   "cell_type": "code",
   "execution_count": 79,
   "metadata": {},
   "outputs": [
    {
     "data": {
      "text/plain": [
       "['1,2013-07-25 00:00:00.0,11599,CLOSED',\n",
       " '2,2013-07-25 00:00:00.0,256,PENDING_PAYMENT',\n",
       " '3,2013-07-25 00:00:00.0,12111,COMPLETE',\n",
       " '4,2013-07-25 00:00:00.0,8827,CLOSED',\n",
       " '5,2013-07-25 00:00:00.0,11318,COMPLETE',\n",
       " '6,2013-07-25 00:00:00.0,7130,COMPLETE',\n",
       " '7,2013-07-25 00:00:00.0,4530,COMPLETE',\n",
       " '8,2013-07-25 00:00:00.0,2911,PROCESSING',\n",
       " '9,2013-07-25 00:00:00.0,5657,PENDING_PAYMENT',\n",
       " '10,2013-07-25 00:00:00.0,5648,PENDING_PAYMENT']"
      ]
     },
     "execution_count": 79,
     "metadata": {},
     "output_type": "execute_result"
    }
   ],
   "source": [
    "orders[:10]"
   ]
  },
  {
   "cell_type": "code",
   "execution_count": 80,
   "metadata": {},
   "outputs": [],
   "source": [
    "order = '3,2013-07-25 00:00:00.0,12111,COMPLETE'"
   ]
  },
  {
   "cell_type": "code",
   "execution_count": 81,
   "metadata": {},
   "outputs": [
    {
     "data": {
      "text/plain": [
       "True"
      ]
     },
     "execution_count": 81,
     "metadata": {},
     "output_type": "execute_result"
    }
   ],
   "source": [
    "int(order.split(',')[2]) == 12111"
   ]
  },
  {
   "cell_type": "code",
   "execution_count": 82,
   "metadata": {},
   "outputs": [],
   "source": [
    "def get_customer_orders(orders, customer_id):\n",
    "    orders_filtered = []\n",
    "    for order in orders:\n",
    "        if int(order.split(',')[2]) == customer_id:\n",
    "            orders_filtered.append(order)\n",
    "    return orders_filtered"
   ]
  },
  {
   "cell_type": "code",
   "execution_count": 83,
   "metadata": {},
   "outputs": [
    {
     "data": {
      "text/plain": [
       "['3774,2013-08-16 00:00:00.0,12431,CANCELED',\n",
       " '3870,2013-08-17 00:00:00.0,12431,PENDING_PAYMENT',\n",
       " '4032,2013-08-17 00:00:00.0,12431,ON_HOLD',\n",
       " '22812,2013-12-12 00:00:00.0,12431,PENDING',\n",
       " '22927,2013-12-13 00:00:00.0,12431,CLOSED',\n",
       " '25614,2013-12-30 00:00:00.0,12431,CLOSED',\n",
       " '27585,2014-01-12 00:00:00.0,12431,PROCESSING',\n",
       " '28244,2014-01-15 00:00:00.0,12431,PENDING_PAYMENT',\n",
       " '29109,2014-01-21 00:00:00.0,12431,ON_HOLD',\n",
       " '29232,2014-01-21 00:00:00.0,12431,ON_HOLD',\n",
       " '45894,2014-05-06 00:00:00.0,12431,CLOSED',\n",
       " '46217,2014-05-07 00:00:00.0,12431,CLOSED',\n",
       " '49678,2014-05-31 00:00:00.0,12431,PENDING',\n",
       " '51865,2014-06-15 00:00:00.0,12431,PROCESSING',\n",
       " '63146,2014-02-13 00:00:00.0,12431,PENDING_PAYMENT',\n",
       " '67110,2014-07-14 00:00:00.0,12431,PENDING']"
      ]
     },
     "execution_count": 83,
     "metadata": {},
     "output_type": "execute_result"
    }
   ],
   "source": [
    "# Use the function and get all the orders which are placed by customer with id 12431\n",
    "get_customer_orders(orders, 12431)"
   ]
  },
  {
   "cell_type": "markdown",
   "metadata": {},
   "source": [
    "### Task 2\n",
    "\n",
    "Create a function by name get_customer_orders_for_month which take orders list, customer_id and month in the format YYYY-MM as arguments and return all the orders placed by customer_id for a given month."
   ]
  },
  {
   "cell_type": "code",
   "execution_count": 73,
   "metadata": {},
   "outputs": [],
   "source": [
    "order = '3,2013-07-25 00:00:00.0,12111,COMPLETE'"
   ]
  },
  {
   "cell_type": "code",
   "execution_count": 74,
   "metadata": {},
   "outputs": [
    {
     "data": {
      "text/plain": [
       "True"
      ]
     },
     "execution_count": 74,
     "metadata": {},
     "output_type": "execute_result"
    }
   ],
   "source": [
    "int(order.split(',')[2]) == 12111"
   ]
  },
  {
   "cell_type": "code",
   "execution_count": 75,
   "metadata": {},
   "outputs": [
    {
     "data": {
      "text/plain": [
       "True"
      ]
     },
     "execution_count": 75,
     "metadata": {},
     "output_type": "execute_result"
    }
   ],
   "source": [
    "order.split(',')[1].startswith('2013-07')"
   ]
  },
  {
   "cell_type": "code",
   "execution_count": 76,
   "metadata": {},
   "outputs": [
    {
     "data": {
      "text/plain": [
       "True"
      ]
     },
     "execution_count": 76,
     "metadata": {},
     "output_type": "execute_result"
    }
   ],
   "source": [
    "int(order.split(',')[2]) == 12111 and order.split(',')[1].startswith('2013-07')"
   ]
  },
  {
   "cell_type": "code",
   "execution_count": 77,
   "metadata": {},
   "outputs": [],
   "source": [
    "def get_customer_orders_for_month(orders, customer_id, order_month):\n",
    "    orders_filtered = []\n",
    "    for order in orders:\n",
    "        order_elements = order.split(',')\n",
    "        if int(order_elements[2]) == customer_id and order_elements[1].startswith(order_month):\n",
    "            orders_filtered.append(order)\n",
    "    return orders_filtered"
   ]
  },
  {
   "cell_type": "code",
   "execution_count": 78,
   "metadata": {},
   "outputs": [
    {
     "data": {
      "text/plain": [
       "['27585,2014-01-12 00:00:00.0,12431,PROCESSING',\n",
       " '28244,2014-01-15 00:00:00.0,12431,PENDING_PAYMENT',\n",
       " '29109,2014-01-21 00:00:00.0,12431,ON_HOLD',\n",
       " '29232,2014-01-21 00:00:00.0,12431,ON_HOLD']"
      ]
     },
     "execution_count": 78,
     "metadata": {},
     "output_type": "execute_result"
    }
   ],
   "source": [
    "# Use the function and get all the orders which are placed by customer with id 12431 in January 2014\n",
    "get_customer_orders_for_month(orders, 12431, '2014-01')"
   ]
  },
  {
   "cell_type": "markdown",
   "metadata": {},
   "source": [
    "### Task 3\n",
    "Write ad hoc code to get all the orders which are placed by customer with id 12431 in January 2014 and status is in PENDING_PAYMENT or PROCESSING"
   ]
  },
  {
   "cell_type": "code",
   "execution_count": 72,
   "metadata": {},
   "outputs": [
    {
     "name": "stdout",
     "output_type": "stream",
     "text": [
      "27585,2014-01-12 00:00:00.0,12431,PROCESSING\n",
      "28244,2014-01-15 00:00:00.0,12431,PENDING_PAYMENT\n"
     ]
    }
   ],
   "source": [
    "for order in orders:\n",
    "    order_elements = order.split(',')\n",
    "    if int(order_elements[2]) == 12431 \\\n",
    "        and order_elements[1].startswith('2014-01') \\\n",
    "        and (order_elements[3] in ('PROCESSING', 'PENDING_PAYMENT')):\n",
    "        print(order)"
   ]
  },
  {
   "cell_type": "markdown",
   "metadata": {},
   "source": [
    "## Exercises"
   ]
  }
 ],
 "metadata": {
  "kernelspec": {
   "display_name": "Python 3",
   "language": "python",
   "name": "python3"
  },
  "language_info": {
   "codemirror_mode": {
    "name": "ipython",
    "version": 3
   },
   "file_extension": ".py",
   "mimetype": "text/x-python",
   "name": "python",
   "nbconvert_exporter": "python",
   "pygments_lexer": "ipython3",
   "version": "3.7.8"
  }
 },
 "nbformat": 4,
 "nbformat_minor": 4
}
