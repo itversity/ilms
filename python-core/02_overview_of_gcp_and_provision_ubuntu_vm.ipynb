{
 "cells": [
  {
   "cell_type": "markdown",
   "metadata": {},
   "source": [
    "# Overview of GCP and Provision Ubuntu VM \n",
    "\n",
    "* Signing up for GCP\n",
    "* Understanding GCP Web Console\n",
    "* Overview of GCP Pricing\n",
    "* Provision Ubuntu 18.04 Virtual Machine\n",
    "* Setup Docker \n",
    "* Validating Python \n",
    "* Setup Jupyter Lab"
   ]
  },
  {
   "cell_type": "markdown",
   "metadata": {},
   "source": [
    "## Signing up for GCP\n",
    "\n",
    "GCP is one of the leading cloud provider. We will be primarily using it to get hands on with Linux over the duration of the course.\n",
    "* Google provides $300 credit for one year to try out GCP.\n",
    "* Go to [Google Cloud](https://cloud.google.com) and complete sign up process.\n",
    "* Make sure to avail $300 credit.\n",
    "* Once you complete the sign up process you will get access to Web Console of GCP."
   ]
  },
  {
   "cell_type": "markdown",
   "metadata": {},
   "source": [
    "## Understanding GCP Web Console\n",
    "\n",
    "Let us have some basic idea about GCP Web Console.\n",
    "* We can use GCP Web Console for managing Google Cloud Infrastructure. Here I am highlighting some of them.\n",
    "  * Provision Virtual Machines\n",
    "  * Deploy Applications\n",
    "  * Leverage Existing out of the box services\n",
    "* We should also know how to get billing details. You can go to Billing Section and should be able review the credits.\n",
    "* For this course, we will be primarily focusing on these.\n",
    "  * Provision Virtual Machine\n",
    "  * Stop and Start Virtual Machine\n",
    "  * Make sure to configure firewalls for the virtual machine created."
   ]
  },
  {
   "cell_type": "markdown",
   "source": [
    "## Overview of GCP Pricing\n",
    "\n",
    "It is very important to spend some time and understand the pricing of GCP for the virtual machine.\n",
    "* GCP Provides Pricing Calculator to estimate the cost.\n",
    "* Here is the configuration for our Virtual Machine.\n",
    "  * 8 GB RAM\n",
    "  * At least 2 core CPU\n",
    "  * 60 GB Storage\n",
    "* For Storage, we will have fixed cost as long as it is provisioned.\n",
    "* For Virtual Machine (CPU and Memory), we will be paying only for the time for which the Virtual Machine is up and running.\n",
    "* Best Practices to get most out of the credit or to reduce the cost of using GCP.\n",
    "  * Ensure that you stop the Virtual Machine when you are not using.\n",
    "  * Make sure to use static ip address (incurs a nominal fixed cost).\n",
    "  * Make sure to open only those ports that are relevant to you (to avoid attacks)."
   ],
   "metadata": {
    "collapsed": false
   }
  },
  {
   "cell_type": "markdown",
   "metadata": {},
   "source": [
    "## Provision Ubuntu 18.04 Virtual Machine\n",
    "\n",
    "As we got GCP account and understood pricing, now it is time to provision Ubuntu 18.04 Virtual Machine.\n",
    "* Setup Virtual Machine\n",
    "* Connect to Virtual Machine using Web Console.\n",
    "* Configure Static ip to the Virtual Machine so that the public ip does not change on reboot.\n"
   ]
  },
  {
   "cell_type": "markdown",
   "metadata": {},
   "source": [
    "## Setup Docker\n",
    "Let us setup docker. We will be using it to create Database required for this course.\n",
    "* Go to this [link](https://www.digitalocean.com/community/tutorials/how-to-install-and-use-docker-on-ubuntu-18-04) and follow the instructions to setup Docker.\n",
    "* Make sure to add the user to `docker` group so that we do not have to use `sudo` to manage Docker related components such as images, containers etc.\n",
    "* Let us validate docker by creating simple **Hello World** Container."
   ]
  },
  {
   "cell_type": "markdown",
   "metadata": {},
   "source": [
    "## Validating Python\n",
    "\n",
    "Let us validate Python on Ubuntu VM that is provisioned.\n",
    "* By default, Ubuntu 18.04 VM will have Python3 installed. You can run `python3` and launch Python CLI.\n",
    "* However, there might not be additional important modules such as pip, venv etc.\n",
    "* We need to validate and ensure that they are installed."
   ]
  },
  {
   "cell_type": "markdown",
   "metadata": {
    "pycharm": {
     "name": "#%% md\n"
    }
   },
   "source": [
    "## Setup Jupyter Lab\n",
    "\n",
    "Let us setup Jupyter Lab on Ubuntu VM. This is primarily to understand firewall configuration in GCP.\n",
    "* Install required dependencies for Jupyter Lab.\n",
    "* Launch Jupyter Lab\n",
    "* At this time, you will not be able to access Jupyter Lab\n",
    "* Go to firewall and open the port using GCP Web Console\n",
    "* Now enter the ip address and port number to access the Jupyter Lab UI.\n"
   ]
  }
 ],
 "metadata": {
  "kernelspec": {
   "display_name": "Python 3",
   "language": "python",
   "name": "python3"
  },
  "language_info": {
   "codemirror_mode": {
    "name": "ipython",
    "version": 3
   },
   "file_extension": ".py",
   "mimetype": "text/x-python",
   "name": "python",
   "nbconvert_exporter": "python",
   "pygments_lexer": "ipython3",
   "version": "3.7.8"
  }
 },
 "nbformat": 4,
 "nbformat_minor": 4
}