{
 "cells": [
  {
   "cell_type": "markdown",
   "metadata": {},
   "source": [
    "# Overview of Windows Operating System \n",
    "\n",
    "* Getting System Details\n",
    "* Managing Windows System\n",
    "* Overview of Microsoft Office\n",
    "* Overview of Editors and IDEs\n",
    "* Power Shell and Command Prompt\n",
    "* Connecting to Linux Servers\n",
    "* Folders and Files"
   ]
  },
  {
   "cell_type": "markdown",
   "metadata": {},
   "source": [
    "## Getting System Details\n",
    "\n",
    "Let us understand how to get System Details for Windows.\n",
    "* A computer or server is combination of CPU, Memory, Storage etc connected over a motherboard.\n",
    "* One need to have idea about the computer they are using to quantify the performance.\n",
    "* In Windows, one can go to File explorer and then to \"This PC\", right click and then check the details.\n",
    "* We can also go to task manager to have better understanding of the system configuration."
   ]
  },
  {
   "cell_type": "markdown",
   "metadata": {},
   "source": [
    "## Managing Windows System\n",
    "Let us understand how to manage system effectively. We can use tools like Control Panel and Task Manager.\n",
    "* Control Panel provides administrative capabilities in a Windows System.\n",
    "  * Managing users\n",
    "  * Manage installed softwares\n",
    "  * Configure Devices such as printers over network\n",
    "  * and many more\n",
    "* When system is slow, one can go to \"Task Manager\" and see if any applications are causing the slowness.\n",
    "* We can kill the processes that are not important."
   ]
  },
  {
   "cell_type": "markdown",
   "metadata": {},
   "source": [
    "## Overview of Microsoft Office\n",
    "As IT Professionals, it is important to have an idea about tools we typically use for effective communication. Microsoft provide multiple tools under the Microsoft Office umbrella.\n",
    "* Outlook - for email commmunication.\n",
    "* Teams - for interactive chats.\n",
    "* Word - to create required documents for design and support.\n",
    "* Powerpoint - to create effective presentations.\n",
    "* Excel - to create spreadsheets for simple metrics and reports.\n",
    "\n",
    "Most of the organizations started using Google Suite and we get similar products under the Google Suite as well."
   ]
  },
  {
   "cell_type": "markdown",
   "metadata": {},
   "source": [
    "## Overview of Editors and IDEs"
   ]
  },
  {
   "cell_type": "markdown",
   "metadata": {},
   "source": [
    "## Power Shell and Command Prompt"
   ]
  },
  {
   "cell_type": "markdown",
   "metadata": {},
   "source": [
    "## Connecting to Linux Servers"
   ]
  },
  {
   "cell_type": "markdown",
   "metadata": {},
   "source": [
    "## Folders and Files"
   ]
  },
  {
   "cell_type": "code",
   "execution_count": null,
   "metadata": {},
   "outputs": [],
   "source": []
  }
 ],
 "metadata": {
  "kernelspec": {
   "display_name": "Python 3",
   "language": "python",
   "name": "python3"
  },
  "language_info": {
   "codemirror_mode": {
    "name": "ipython",
    "version": 3
   },
   "file_extension": ".py",
   "mimetype": "text/x-python",
   "name": "python",
   "nbconvert_exporter": "python",
   "pygments_lexer": "ipython3",
   "version": "3.6.12"
  }
 },
 "nbformat": 4,
 "nbformat_minor": 4
}
