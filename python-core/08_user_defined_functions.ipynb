{
 "cells": [
  {
   "cell_type": "markdown",
   "metadata": {
    "pycharm": {
     "name": "#%% md"
    }
   },
   "source": [
    "# User-defined Functions\n",
    "\n",
    "* Defining Functions\n",
    "* Returning Values\n",
    "* Function Parameters and Arguments\n",
    "* Varrying Arguments\n",
    "* Keyword Arguments\n",
    "* Lambda Functions\n",
    "* Usage of Lambda Functions"
   ]
  },
  {
   "cell_type": "markdown",
   "metadata": {},
   "source": [
    "## Defining Functions\n",
    "\n",
    "Here are simple rules to define a function in Python.\n",
    "* Function blocks begin with the keyword `def` followed by the function name and parentheses ().\n",
    "* While defining functions we need to specify parameters in these parentheses (if applicable)\n",
    "* The **function specification** ends with `:` - (example: `def add(a, b):`)\n",
    "* We typically have **return** statement with expression in function body which results in exit from the function and goes back to the caller.\n",
    "* We can have document string in the function."
   ]
  },
  {
   "cell_type": "code",
   "execution_count": 4,
   "metadata": {},
   "outputs": [],
   "source": [
    "def get_commission_amount(sales_amount, commission_pct):\n",
    "    commission_amount = (sales_amount * commission_pct / 100) if commission_pct else 0\n",
    "    return commission_amount"
   ]
  },
  {
   "cell_type": "code",
   "execution_count": 5,
   "metadata": {},
   "outputs": [
    {
     "data": {
      "text/plain": [
       "200.0"
      ]
     },
     "execution_count": 5,
     "metadata": {},
     "output_type": "execute_result"
    }
   ],
   "source": [
    "get_commission_amount(1000, 20)"
   ]
  },
  {
   "cell_type": "markdown",
   "metadata": {},
   "source": [
    "## Doc Strings\n",
    "Documentation is one of the key aspect related to programming. However, it should be crisp and informative.\n",
    "* One of the key aspect of documentation is to provide information about usage of a function.\n",
    "* In Python we can get the information about the function by using help.\n",
    "* We can get help for a class like `str` using `help(str)` and help for a function like `str.startswith` using `help(str.startswith)`.\n",
    "* If you want to provide help for user defined function, you can leverage the feature of Doc Strings. It is nothing but a string which is provided as first statement in a function.\n",
    "* Here are some of the characteristics related to Doc Strings:\n",
    "  * By default help returns the function specification.\n",
    "  * Doc String should be the first line in the function body.\n",
    "  * The Doc String should not be assigned to any variable.\n",
    "  * Using `\"\"\"` or `'''`, we can have multi-line string.\n",
    "* It is a good practice to provide crisp and concise Doc String for each of the custom function developed."
   ]
  },
  {
   "cell_type": "code",
   "execution_count": 10,
   "metadata": {},
   "outputs": [],
   "source": [
    "def get_commission_amount(sales_amount, commission_pct):\n",
    "    \"\"\"Function to compute commission amount. commission_pct should be passed as percent notation (eg: 20%)\n",
    "       20% using percent notation is equal to 0.20 in decimal notation.\n",
    "    \"\"\"\n",
    "    commission_amount = (sales_amount * commission_pct / 100) if commission_pct else 0\n",
    "    return commission_amount"
   ]
  },
  {
   "cell_type": "code",
   "execution_count": 11,
   "metadata": {},
   "outputs": [
    {
     "name": "stdout",
     "output_type": "stream",
     "text": [
      "Help on function get_commission_amount in module __main__:\n",
      "\n",
      "get_commission_amount(sales_amount, commission_pct)\n",
      "    Function to compute commission amount. commission_pct should be passed as percent notation (eg: 20%)\n",
      "    20% using percent notation is equal to 0.20 in decimal notation.\n",
      "\n"
     ]
    }
   ],
   "source": [
    "help(get_commission_amount)"
   ]
  },
  {
   "cell_type": "markdown",
   "metadata": {},
   "source": [
    "## Returning Values\n",
    "\n",
    "Let us understand more about returning values to the caller.\n",
    "* We typically have one or more **return statements** inside the function body.\n",
    "* The statement `return` exits a function, we can return back an **expression** or **variable** or **object** to the caller. A return statement with no expression is the same as **return None**.\n",
    "* If there is no **return statement** in the function body then the function returns **None** object.\n",
    "* We can return multiple expressions in Python."
   ]
  },
  {
   "cell_type": "code",
   "execution_count": 12,
   "metadata": {},
   "outputs": [],
   "source": [
    "def get_commission_amount(sales_amount, commission_pct):\n",
    "    \"\"\"Function to compute commission amount. commission_pct should be passed as percent notation (eg: 20%)\n",
    "       20% using percent notation is equal to 0.20 in decimal notation.\n",
    "    \"\"\"\n",
    "    commission_amount = (sales_amount * commission_pct / 100) if commission_pct else 0\n",
    "    return commission_amount"
   ]
  },
  {
   "cell_type": "code",
   "execution_count": 15,
   "metadata": {},
   "outputs": [],
   "source": [
    "def get_phone_count(employee_id: int, phone_numbers: list):\n",
    "    valid_count = 0\n",
    "    invalid_count = 0\n",
    "    for phone_number in phone_numbers:\n",
    "        if len(phone_number) != 10:\n",
    "            invalid_count += 1\n",
    "        else:\n",
    "            valid_count += 1\n",
    "    return valid_count, invalid_count"
   ]
  },
  {
   "cell_type": "code",
   "execution_count": 17,
   "metadata": {},
   "outputs": [
    {
     "data": {
      "text/plain": [
       "(1, 2)"
      ]
     },
     "execution_count": 17,
     "metadata": {},
     "output_type": "execute_result"
    }
   ],
   "source": [
    "get_phone_count(1, ['1234567890', '245 789 1234', '+1 156 290 1489'])"
   ]
  },
  {
   "cell_type": "markdown",
   "metadata": {},
   "source": [
    "## Function Parameters and Arguments\n",
    "\n",
    "Let us go through the details related to Parameters and Arguments."
   ]
  },
  {
   "cell_type": "markdown",
   "metadata": {},
   "source": [
    "## Varrying Arguments"
   ]
  },
  {
   "cell_type": "markdown",
   "metadata": {},
   "source": [
    "## Keyword Arguments"
   ]
  },
  {
   "cell_type": "markdown",
   "metadata": {},
   "source": [
    "## Lambda Functions"
   ]
  },
  {
   "cell_type": "markdown",
   "metadata": {},
   "source": [
    "## Usage of Lambda Functions"
   ]
  },
  {
   "cell_type": "markdown",
   "metadata": {},
   "source": [
    "## Exercises\n",
    "\n",
    "Let us develop a function called as calc.\n",
    "* It should take 3 arguments\n",
    "* First argument - a of type int\n",
    "* Second argument - b of type int\n",
    "* Third argument - op of type int\n",
    "* If op is 1, the function should return sum of a and b\n",
    "* If op is 2, the function should subtract b from a and return the result\n",
    "* If op is 3, the function should multiply a with b and return the result\n",
    "* If op is 4, the function should divide a by b and return the result\n",
    "* If op is any other number, the function should print saying that invalid op and return nothing"
   ]
  },
  {
   "cell_type": "markdown",
   "metadata": {},
   "source": [
    "### Validation\n",
    "Please run this code to validate the function `calc`."
   ]
  },
  {
   "cell_type": "code",
   "execution_count": null,
   "metadata": {},
   "outputs": [],
   "source": [
    "a = int(input(\"Enter first value of type integer: \"))\n",
    "b = int(input(\"Enter second value of type integer: \"))\n",
    "op = int(input(\"Enter 1 for add, 2 for sub, 3 for mul and 4 for div: \"))"
   ]
  },
  {
   "cell_type": "code",
   "execution_count": null,
   "metadata": {},
   "outputs": [],
   "source": []
  }
 ],
 "metadata": {
  "kernelspec": {
   "display_name": "Python 3",
   "language": "python",
   "name": "python3"
  },
  "language_info": {
   "codemirror_mode": {
    "name": "ipython",
    "version": 3
   },
   "file_extension": ".py",
   "mimetype": "text/x-python",
   "name": "python",
   "nbconvert_exporter": "python",
   "pygments_lexer": "ipython3",
   "version": "3.7.8"
  }
 },
 "nbformat": 4,
 "nbformat_minor": 4
}
