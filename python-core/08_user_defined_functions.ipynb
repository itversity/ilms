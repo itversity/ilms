{
 "cells": [
  {
   "cell_type": "markdown",
   "metadata": {
    "pycharm": {
     "name": "#%% md"
    }
   },
   "source": [
    "# User Defined Functions\n",
    "\n",
    "Let us go through the details related to custom functions developed by users as part of the applications.\n",
    "* Defining Functions\n",
    "* Doc Strings\n",
    "* Returning Values\n",
    "* Function Parameters and Arguments\n",
    "* Varying Arguments\n",
    "* Keyword Arguments\n",
    "* Recap of User Defined Functions\n",
    "* Passing Functions as Arguments\n",
    "* Lambda Functions\n",
    "* Usage of Lambda Functions\n",
    "* Exercise - User Defined Functions"
   ]
  },
  {
   "cell_type": "markdown",
   "metadata": {},
   "source": [
    "## Defining Functions\n",
    "\n",
    "Here are simple rules to define a function in Python.\n",
    "* Function blocks begin with the keyword `def` followed by the function name and parentheses ().\n",
    "* While defining functions we need to specify parameters in these parentheses (if applicable)\n",
    "* The **function specification** ends with `:` - (example: `def add(a, b):`)\n",
    "* We typically have **return** statement with expression in function body which results in exit from the function and goes back to the caller.\n",
    "* We can have document string in the function."
   ]
  },
  {
   "cell_type": "code",
   "execution_count": null,
   "metadata": {},
   "outputs": [],
   "source": [
    "def get_commission_amount(sales_amount, commission_pct):\n",
    "    commission_amount = (sales_amount * commission_pct / 100) if commission_pct else 0\n",
    "    return commission_amount"
   ]
  },
  {
   "cell_type": "code",
   "execution_count": null,
   "metadata": {},
   "outputs": [],
   "source": [
    "get_commission_amount"
   ]
  },
  {
   "cell_type": "code",
   "execution_count": null,
   "metadata": {},
   "outputs": [],
   "source": [
    "get_commission_amount(1000, 20)"
   ]
  },
  {
   "cell_type": "code",
   "execution_count": null,
   "metadata": {},
   "outputs": [],
   "source": [
    "def get_commission_amount(sales_amount, commission_pct):\n",
    "    if commission_pct:\n",
    "        commission_amount = (sales_amount * commission_pct / 100) \n",
    "    else:\n",
    "        commission_pct = 0\n",
    "    return commission_amount"
   ]
  },
  {
   "cell_type": "code",
   "execution_count": null,
   "metadata": {},
   "outputs": [],
   "source": [
    "get_commission_amount(1000, 20)"
   ]
  },
  {
   "cell_type": "code",
   "execution_count": null,
   "metadata": {},
   "outputs": [],
   "source": [
    "def get_commission_amount(sales_amount, commission_pct):\n",
    "    return (sales_amount * commission_pct / 100) if commission_pct else 0"
   ]
  },
  {
   "cell_type": "code",
   "execution_count": null,
   "metadata": {},
   "outputs": [],
   "source": [
    "get_commission_amount(1000, 20)"
   ]
  },
  {
   "cell_type": "markdown",
   "metadata": {},
   "source": [
    "## Doc Strings\n",
    "Documentation is one of the key aspect related to programming. However, it should be crisp and informative.\n",
    "* One of the key aspect of documentation is to provide information about usage of a function.\n",
    "* In Python we can get the information about the function by using help.\n",
    "* We can get help for a class like `str` using `help(str)` and help for a function like `str.startswith` using `help(str.startswith)`.\n",
    "* If you want to provide help for user defined function, you can leverage the feature of Doc Strings. It is nothing but a string which is provided as first statement in a function.\n",
    "* Here are some of the characteristics related to Doc Strings:\n",
    "  * By default help returns the function specification.\n",
    "  * Doc String should be the first line in the function body.\n",
    "  * The Doc String should not be assigned to any variable.\n",
    "  * Using `\"\"\"` or `'''`, we can have multi-line string.\n",
    "* It is a good practice to provide crisp and concise Doc String for each of the custom function developed."
   ]
  },
  {
   "cell_type": "code",
   "execution_count": null,
   "metadata": {},
   "outputs": [],
   "source": [
    "help(str)"
   ]
  },
  {
   "cell_type": "code",
   "execution_count": null,
   "metadata": {},
   "outputs": [],
   "source": [
    "help(str.startswith)"
   ]
  },
  {
   "cell_type": "code",
   "execution_count": null,
   "metadata": {},
   "outputs": [],
   "source": [
    "str.startswith?"
   ]
  },
  {
   "cell_type": "code",
   "execution_count": null,
   "metadata": {},
   "outputs": [],
   "source": [
    "def get_commission_amount(sales_amount, commission_pct):\n",
    "    \"\"\"Function to compute commission amount. commission_pct should be passed as percent notation (eg: 20%)\n",
    "       20% using percent notation is equal to 0.20 in decimal notation.\n",
    "    \"\"\"\n",
    "    commission_amount = (sales_amount * commission_pct / 100) if commission_pct else 0\n",
    "    return commission_amount"
   ]
  },
  {
   "cell_type": "code",
   "execution_count": null,
   "metadata": {},
   "outputs": [],
   "source": [
    "get_commission_amount"
   ]
  },
  {
   "cell_type": "code",
   "execution_count": null,
   "metadata": {},
   "outputs": [],
   "source": [
    "help(get_commission_amount)"
   ]
  },
  {
   "cell_type": "code",
   "execution_count": null,
   "metadata": {},
   "outputs": [],
   "source": [
    "get_commission_amount?"
   ]
  },
  {
   "cell_type": "markdown",
   "metadata": {},
   "source": [
    "## Returning Values\n",
    "\n",
    "Let us understand more about returning values to the caller.\n",
    "* We typically have one or more **return statements** inside the function body.\n",
    "* The statement `return` exits a function, we can return back an **expression** or **variable** or **object** to the caller. A return statement with no expression is the same as **return None**.\n",
    "* If there is no **return statement** in the function body then the function returns **None** object.\n",
    "* We can return multiple expressions in Python."
   ]
  },
  {
   "cell_type": "code",
   "execution_count": null,
   "metadata": {},
   "outputs": [],
   "source": [
    "def get_commission_amount(sales_amount, commission_pct):\n",
    "    \"\"\"Function to compute commission amount. commission_pct should be passed as percent notation (eg: 20%)\n",
    "       20% using percent notation is equal to 0.20 in decimal notation.\n",
    "    \"\"\"\n",
    "    commission_amount = (sales_amount * commission_pct / 100) if commission_pct else 0\n",
    "    return commission_amount"
   ]
  },
  {
   "cell_type": "code",
   "execution_count": null,
   "metadata": {},
   "outputs": [],
   "source": [
    "get_commission_amount(1000, 20)"
   ]
  },
  {
   "cell_type": "code",
   "execution_count": null,
   "metadata": {},
   "outputs": [],
   "source": [
    "def get_phone_count(employee_id: int, phone_numbers: list):\n",
    "    valid_count = 0\n",
    "    invalid_count = 0\n",
    "    for phone_number in phone_numbers:\n",
    "        if len(phone_number) != 10:\n",
    "            invalid_count += 1\n",
    "        else:\n",
    "            valid_count += 1\n",
    "    return valid_count, invalid_count"
   ]
  },
  {
   "cell_type": "code",
   "execution_count": null,
   "metadata": {},
   "outputs": [],
   "source": [
    "get_phone_count(1, ['1234567890', '245 789 1234', '+1 156 290 1489'])"
   ]
  },
  {
   "cell_type": "markdown",
   "metadata": {},
   "source": [
    "## Function Parameters and Arguments\n",
    "\n",
    "Let us get an overview of different types of Function Parameters and Arguments supported by Python.\n",
    "* Parameter is variable in the declaration of function. Argument is the actual value of this variable that gets passed to function.\n",
    "* However, in some cases these two terms are used interchangeably.\n",
    "* In Python, parameters can be objects or even functions. We can pass named functions or lambda functions as arguments. We will talk about these details later.\n",
    "* Here are different types of parameters or arguments:\n",
    "  * Parameters with Default Values\n",
    "  * Varying arguments\n",
    "  * Keyword arguments\n",
    "  * Varying Keyword arguments\n",
    "* We can pass arguments to a function by parameter position or name. If you use name you can pass arguments in any order.\n",
    "* You can only specify parameters with default values after mandatory parameters. `def get_commission_amount(sales_amount=1000, commission_pct)` is syntactically wrong and throws error."
   ]
  },
  {
   "cell_type": "markdown",
   "metadata": {},
   "source": [
    "### Tasks\n",
    "Let us perform a few tasks to understand more about parameters and arguments with and with out default values.\n",
    "\n",
    "* Checking whether phone numbers of a given employee are valid - get_invalid_phone_count\n",
    "  * Function should take 2 arguments, employee_id and phone_numbers (list)\n",
    "  * Check whether each phone number have 10 digits.\n",
    "  * Return employee_id and number of phone numbers with less than 10 digits\n",
    "* Get commission amount by passing sales amount and commission percentage. However, if the commission percentage is not passed from the caller, then the default percentage should be 10."
   ]
  },
  {
   "cell_type": "code",
   "execution_count": null,
   "metadata": {},
   "outputs": [],
   "source": [
    "def get_invalid_phone_count(employee_id, phone_numbers):\n",
    "    invalid_count = 0\n",
    "    for phone_number in phone_numbers:\n",
    "        if len(phone_number) != 10:\n",
    "            invalid_count += 1\n",
    "    return employee_id, invalid_count"
   ]
  },
  {
   "cell_type": "code",
   "execution_count": null,
   "metadata": {},
   "outputs": [],
   "source": [
    "s = 'Employee {employee_id} have {invalid_count} invalid phones'\n",
    "employee_id, invalid_count = get_invalid_phone_count(1, ['1234', '1234567890'])"
   ]
  },
  {
   "cell_type": "code",
   "execution_count": null,
   "metadata": {},
   "outputs": [],
   "source": [
    "print(s.format(employee_id=employee_id, invalid_count=invalid_count))"
   ]
  },
  {
   "cell_type": "code",
   "execution_count": null,
   "metadata": {},
   "outputs": [],
   "source": [
    "def get_commission_amount(sales_amount=1000, commission_pct):\n",
    "    \"\"\"Function to compute commission amount. commission_pct should be passed as percent notation (eg: 20%)\n",
    "       20% using percent notation is equal to 0.20 in decimal notation.\n",
    "    \"\"\"\n",
    "    commission_amount = (sales_amount * commission_pct / 100) if commission_pct else 0\n",
    "    return commission_amount"
   ]
  },
  {
   "cell_type": "code",
   "execution_count": null,
   "metadata": {},
   "outputs": [],
   "source": [
    "def get_commission_amount(sales_amount, commission_pct=10):\n",
    "    \"\"\"Function to compute commission amount. commission_pct should be passed as percent notation (eg: 20%)\n",
    "       20% using percent notation is equal to 0.20 in decimal notation.\n",
    "    \"\"\"\n",
    "    if commission_pct and commission_pct > 100:\n",
    "        print('Invalid Commision Percentage, greater than 100')\n",
    "        return\n",
    "    commission_amount = sales_amount * (commission_pct / 100) if commission_pct else 0\n",
    "    return commission_amount"
   ]
  },
  {
   "cell_type": "code",
   "execution_count": null,
   "metadata": {},
   "outputs": [],
   "source": [
    "# Arguments by position\n",
    "get_commission_amount(1000, 5)"
   ]
  },
  {
   "cell_type": "code",
   "execution_count": null,
   "metadata": {},
   "outputs": [],
   "source": [
    "# Will take commission_pct default value\n",
    "get_commission_amount(1000)"
   ]
  },
  {
   "cell_type": "code",
   "execution_count": null,
   "metadata": {},
   "outputs": [],
   "source": [
    "get_commission_amount(1000, None)"
   ]
  },
  {
   "cell_type": "code",
   "execution_count": null,
   "metadata": {},
   "outputs": [],
   "source": [
    "get_commission_amount(1000, 150)"
   ]
  },
  {
   "cell_type": "code",
   "execution_count": null,
   "metadata": {},
   "outputs": [],
   "source": [
    "# Arguments by name\n",
    "get_commission_amount(commission_pct=18, sales_amount=1500)"
   ]
  },
  {
   "cell_type": "markdown",
   "metadata": {},
   "source": [
    "## Varying Arguments\n",
    "\n",
    "Let's talk about Varying arguments. \n",
    "* At times we might want to pass values of same type as arguments and we might not know how many of them.\n",
    "* In that scenario we can leverage the concept of Varying arguments.\n",
    "* The parameter which accepts Varying arguments should have `*` at the beginning - example: `*phone_numbers`.\n",
    "* As part of the function body the type of the parameter will be `tuple`. In our case, as we will be passing phone numbers as strings, it will be of type `tuple` where each element will be of type string."
   ]
  },
  {
   "cell_type": "code",
   "execution_count": null,
   "metadata": {},
   "outputs": [],
   "source": [
    "def get_invalid_phone_count(*phone_numbers, employee_id):\n",
    "    invalid_count = 0\n",
    "    for phone_number in phone_numbers:\n",
    "        if len(phone_number) < 10:\n",
    "            invalid_count += 1\n",
    "    return employee_id, invalid_count"
   ]
  },
  {
   "cell_type": "code",
   "execution_count": null,
   "metadata": {},
   "outputs": [],
   "source": [
    "s = 'Employee {employee_id} have {invalid_count} invalid phones'\n",
    "employee_id, invalid_count = get_invalid_phone_count('1234', '1234567890', 1) \n",
    "# argument by position will fail\n",
    "# Python interpreter cannot determine whether 1 is related to phone_numbers or employee_id"
   ]
  },
  {
   "cell_type": "code",
   "execution_count": null,
   "metadata": {},
   "outputs": [],
   "source": [
    "s = 'Employee {employee_id} have {invalid_count} invalid phones'\n",
    "phone_numbers = ('1234', '1234567890',)\n",
    "employee_id, invalid_count = get_invalid_phone_count(employee_id=1, phone_numbers=phone_numbers) \n",
    "# argument by name will fail\n",
    "# This will fail as we cannot pass varrying argument using keyword"
   ]
  },
  {
   "cell_type": "code",
   "execution_count": null,
   "metadata": {},
   "outputs": [],
   "source": [
    "s = 'Employee {employee_id} have {invalid_count} invalid phones'\n",
    "employee_id, invalid_count = get_invalid_phone_count('1234', '1234567890', employee_id=1) \n",
    "# argument by position will fail\n",
    "# Python interpreter cannot determine whether 1 is related to phone_numbers or employee_id"
   ]
  },
  {
   "cell_type": "code",
   "execution_count": null,
   "metadata": {},
   "outputs": [],
   "source": [
    "print(s.format(employee_id=employee_id, invalid_count=invalid_count))"
   ]
  },
  {
   "cell_type": "code",
   "execution_count": null,
   "metadata": {},
   "outputs": [],
   "source": [
    "def get_invalid_phone_count(employee_id, *phone_numbers):\n",
    "    print(f'Length of phone_numbers is: {len(phone_numbers)}')\n",
    "    print(f'Type of phone_numbers is: {type(phone_numbers)}')\n",
    "    print(f'Type of each phone number is: {type(phone_numbers[0])}')\n",
    "    print(phone_numbers)\n",
    "    invalid_count = 0\n",
    "    for phone_number in phone_numbers:\n",
    "        if len(phone_number) < 10:\n",
    "            invalid_count += 1\n",
    "    return employee_id, invalid_count"
   ]
  },
  {
   "cell_type": "code",
   "execution_count": null,
   "metadata": {},
   "outputs": [],
   "source": [
    "s = 'Employee {employee_id} have {invalid_count} invalid phones'\n",
    "employee_id, invalid_count = get_invalid_phone_count(1, '1234', '1234567890') # argument by position works here"
   ]
  },
  {
   "cell_type": "code",
   "execution_count": null,
   "metadata": {},
   "outputs": [],
   "source": [
    "print(s.format(employee_id=employee_id, invalid_count=invalid_count))"
   ]
  },
  {
   "cell_type": "code",
   "execution_count": null,
   "metadata": {},
   "outputs": [],
   "source": [
    "s = 'Employee {employee_id} have {invalid_count} invalid phones'\n",
    "phone_numbers = ['1234', '1234567890']"
   ]
  },
  {
   "cell_type": "code",
   "execution_count": null,
   "metadata": {},
   "outputs": [],
   "source": [
    "employee_id, invalid_count = get_invalid_phone_count(1, *phone_numbers) # argument by position works here"
   ]
  },
  {
   "cell_type": "code",
   "execution_count": null,
   "metadata": {},
   "outputs": [],
   "source": [
    "print(s.format(employee_id=employee_id, invalid_count=invalid_count))"
   ]
  },
  {
   "cell_type": "markdown",
   "metadata": {},
   "source": [
    "## Keyword Arguments\n",
    "\n",
    "Let us go through the details related to Keyword Arguments.\n",
    "* Keyword Argument is same as passing argument by name.\n",
    "* You can also specify parameter for varying keyword arguments with `**` at the beginning - example: `**degrees`\n",
    "* While passing arguments to satisfy the parameter with `**`, you have to pass key as well as value.\n",
    "* Varying Keyword Arguments can be processed as `dict` in the Function body."
   ]
  },
  {
   "cell_type": "code",
   "execution_count": null,
   "metadata": {},
   "outputs": [],
   "source": [
    "def add_employee(employee_id, **degrees):\n",
    "    print(f'Length of degrees is: {len(degrees)}')\n",
    "    print(f'Type of degrees is: {type(degrees)}')\n",
    "    print(degrees)"
   ]
  },
  {
   "cell_type": "code",
   "execution_count": null,
   "metadata": {},
   "outputs": [],
   "source": [
    "add_employee(1, bachelors='B. Sc', masters='M. C. A')"
   ]
  },
  {
   "cell_type": "code",
   "execution_count": null,
   "metadata": {},
   "outputs": [],
   "source": [
    "degrees = {'bachelors': 'B. Sc', 'masters': 'M. C. A'}\n",
    "add_employee(1, **degrees)"
   ]
  },
  {
   "cell_type": "code",
   "execution_count": null,
   "metadata": {},
   "outputs": [],
   "source": [
    "def add_employee(employee_id, *phone_numbers, **degrees):\n",
    "    print(f'Length of phone_numbers is: {len(phone_numbers)}')\n",
    "    print(f'Type of phone_numbers is: {type(phone_numbers)}')\n",
    "    print(phone_numbers)    \n",
    "    print(f'Length of degrees is: {len(degrees)}')\n",
    "    print(f'Type of degrees is: {type(degrees)}')\n",
    "    print(degrees)"
   ]
  },
  {
   "cell_type": "code",
   "execution_count": null,
   "metadata": {},
   "outputs": [],
   "source": [
    "add_employee(1, '1234567890', '1234567890', bachelors='B. Sc', masters='M. C. A')"
   ]
  },
  {
   "cell_type": "markdown",
   "metadata": {},
   "source": [
    "## Recap of User Defined Functions\n",
    "\n",
    "As we have gone through all the key concepts related to User Defined Functions, let us recap them.\n",
    "* Defining the function with parameters\n",
    "* Relevance of Doc Strings\n",
    "* Returning one or more values\n",
    "* Defining default values to the parameters\n",
    "* Passing argument by position\n",
    "* Keyword arguments or passing argument by name\n",
    "* Different types of special arguments and how they are passed.\n",
    "  * Varying arguments are passed as tuple\n",
    "  * Varying keyword arguments are passed as dict\n",
    "\n",
    "Come back to this once you are done with collections where processing tuples, lists, dicts etc are extensively covered. When you are comfortable, create a function called as **add_employee** which will put all the concepts related to User Defined Functions in action.\n",
    "\n",
    "* Function should take **employee_id**, **employee_name**, **salary**, **phone_numbers** (variable number), **degrees** (variable keyword arguments) as parameters.\n",
    "* We should be able to pass multiple phone numbers as argument for **phone_numbers**\n",
    "* Degrees should be with specialization. There can be one or more degrees with specializations with keys **bachelors**, **masters**, **executive**, **doctorate**.\n",
    "* Make sure **salary** is defaulted to **3000**. If salary is passed and if it is less than **3000** print a message **Invalid salary: {salary}, salary should be at least 3000**\n",
    "* To get invalid phone count, create a function **get_invalid_phone_count** which takes employee_id and varrying phone numbers as argument. The function should return **employee_id** and **invalid_phone_count**.\n",
    "* A phone number which have 10 digits or characters is valid otherwise it is invalid.\n",
    "* Call get_invalid_phone_count and check if **invalid_phone_count** is greater than 0. If invalid phone count is greater than 0, print a message **{l_invalid_count} phone numbers out of {len(phone_numbers)} are not valid**\n",
    "* Get count of degrees by processing variable keyword argument. If there are any invalid degrees print **One or more degrees are not valid**\n",
    "* If all the values passed as arguments are valid  print **Employee {employee_id} with {number} of degrees is successfully added and his salary is {}**"
   ]
  },
  {
   "cell_type": "code",
   "execution_count": null,
   "metadata": {},
   "outputs": [],
   "source": [
    "def get_invalid_phone_count(employee_id, *phone_numbers):\n",
    "    invalid_count = 0\n",
    "    for phone_number in phone_numbers:\n",
    "        if len(phone_number) != 10:\n",
    "            invalid_count += 1\n",
    "    return employee_id, invalid_count"
   ]
  },
  {
   "cell_type": "code",
   "execution_count": null,
   "metadata": {},
   "outputs": [],
   "source": [
    "def add_employee(employee_id, employee_name, *phone_numbers, salary=3000, **degrees):\n",
    "    degree_types = ('bachelors', 'masters', 'executive', 'doctorate')\n",
    "    invalid_degree_flag = False\n",
    "    invalid_salary_flag = False\n",
    "    l_employee_id, l_invalid_count = get_invalid_phone_count(employee_id, *phone_numbers)\n",
    "    if l_invalid_count != 0:\n",
    "        print(f'{l_invalid_count} phone numbers out of {len(phone_numbers)} are not valid')    \n",
    "\n",
    "    if salary < 3000:\n",
    "        invalid_salary_flag = True\n",
    "        print(f'Invalid salary: {salary}, salary should be at least 3000')\n",
    "\n",
    "    for degree_key in degrees:\n",
    "        if degree_key not in degree_types:\n",
    "            invalid_degree_flag = True\n",
    "    \n",
    "    if l_invalid_count != 0 or invalid_degree_flag or invalid_salary_flag:\n",
    "        if invalid_degree_flag: print('One or more degrees are not valid')\n",
    "        return\n",
    "\n",
    "    print('Employee {} with {} degrees is successfully added and his salary is {}'.format(employee_id, len(degrees), salary))\n",
    "    return\n"
   ]
  },
  {
   "cell_type": "code",
   "execution_count": null,
   "metadata": {},
   "outputs": [],
   "source": [
    "add_employee(1, 'IT', '1234567890', '1234567890', salary=5000, b='B. Sc', m='M. C. A')"
   ]
  },
  {
   "cell_type": "code",
   "execution_count": null,
   "metadata": {},
   "outputs": [],
   "source": [
    "add_employee(1, 'IT', '12345678', '1234567890', salary=5000, b='B. Sc', masters='M. C. A')"
   ]
  },
  {
   "cell_type": "code",
   "execution_count": null,
   "metadata": {},
   "outputs": [],
   "source": [
    "add_employee(1, 'IT', '12345678', '1234567890', salary=2000, bachelors='B. Sc', masters='M. C. A')"
   ]
  },
  {
   "cell_type": "code",
   "execution_count": null,
   "metadata": {},
   "outputs": [],
   "source": [
    "add_employee(1, 'IT', '1234567890', '1234567890', salary=5000, bachelors='B. Sc', masters='M. C. A')"
   ]
  },
  {
   "cell_type": "code",
   "execution_count": null,
   "metadata": {},
   "outputs": [],
   "source": [
    "def add_employee(employee_id, employee_name, *phone_numbers, salary=3000, **degrees):\n",
    "    \"\"\"Example using pre defined exception ValueError\"\"\"\n",
    "    degree_types = ('bachelors', 'masters', 'executive', 'doctorate')\n",
    "    try:\n",
    "        l_employee_id, l_invalid_count = get_invalid_phone_count(employee_id, *phone_numbers)\n",
    "        if l_invalid_count != 0 or salary < 3000:\n",
    "            raise ValueError\n",
    "              \n",
    "        for degree_key in degrees:\n",
    "            if degree_key not in degree_types:\n",
    "                raise ValueError\n",
    "\n",
    "        print('Employee {} with {} degrees is successfully added and his salary is {}'.format(employee_id, len(degrees), salary))\n",
    "\n",
    "    except ValueError as ve:\n",
    "        print('Either one or more phone numbers are not valid or invalid salary, salary should be at least 3000 or one or more degrees are not correct')"
   ]
  },
  {
   "cell_type": "code",
   "execution_count": null,
   "metadata": {},
   "outputs": [],
   "source": [
    "add_employee(1, 'IT', '1234567890', '1234567890', salary=5000, b='B. Sc', masters='M. C. A')"
   ]
  },
  {
   "cell_type": "code",
   "execution_count": null,
   "metadata": {},
   "outputs": [],
   "source": [
    "add_employee(1, 'IT', '1234567890', '1234567890', salary=5000, bachelors='B. Sc', masters='M. C. A')"
   ]
  },
  {
   "cell_type": "markdown",
   "metadata": {},
   "source": [
    "## Passing Functions as Arguments\n",
    "\n",
    "Let us understand how to pass functions as arguments.\n",
    "* The function which takes other functions as arguments is typically called as higher order function and the function which is passed as argument is called as lower order function.\n",
    "* You need to define all the functions you want to pass as argument for the higher order functions.\n",
    "* For simple functionality, we can also pass unnamed functions or lambda functions on the fly. We will see as part of the next topic.\n",
    "* Let us take the example of getting sum of integers, squares, cubes and evens related to passing functions as arguments.\n",
    "\n",
    "> Regular Functions"
   ]
  },
  {
   "cell_type": "code",
   "execution_count": null,
   "metadata": {},
   "outputs": [],
   "source": [
    "list(range(1, 10))"
   ]
  },
  {
   "cell_type": "code",
   "execution_count": null,
   "metadata": {},
   "outputs": [],
   "source": [
    "list(range(1, 10, 2))"
   ]
  },
  {
   "cell_type": "code",
   "execution_count": null,
   "metadata": {},
   "outputs": [],
   "source": [
    "list(range(1, 10, 3))"
   ]
  },
  {
   "cell_type": "code",
   "execution_count": null,
   "metadata": {},
   "outputs": [],
   "source": [
    "def sum_of_integers(lb, ub):\n",
    "    total = 0\n",
    "    for i in range(lb, ub + 1):\n",
    "        total += i\n",
    "    return total"
   ]
  },
  {
   "cell_type": "code",
   "execution_count": null,
   "metadata": {},
   "outputs": [],
   "source": [
    "sum_of_integers(5, 10)"
   ]
  },
  {
   "cell_type": "code",
   "execution_count": null,
   "metadata": {},
   "outputs": [],
   "source": [
    "def sum_of_squares(lb, ub):\n",
    "    total = 0\n",
    "    for i in range(lb, ub + 1):\n",
    "        total += i * i\n",
    "    return total"
   ]
  },
  {
   "cell_type": "code",
   "execution_count": null,
   "metadata": {},
   "outputs": [],
   "source": [
    "sum_of_squares(5, 10)"
   ]
  },
  {
   "cell_type": "code",
   "execution_count": null,
   "metadata": {},
   "outputs": [],
   "source": [
    "def sum_of_cubes(lb, ub):\n",
    "    total = 0\n",
    "    for i in range(lb, ub + 1):\n",
    "        total += i * i * i\n",
    "    return total"
   ]
  },
  {
   "cell_type": "code",
   "execution_count": null,
   "metadata": {},
   "outputs": [],
   "source": [
    "sum_of_cubes(5, 10)"
   ]
  },
  {
   "cell_type": "code",
   "execution_count": null,
   "metadata": {},
   "outputs": [],
   "source": [
    "def sum_of_evens(lb, ub):\n",
    "    total = 0\n",
    "    for i in range(lb, ub + 1):\n",
    "        total += i if i % 2 == 0 else 0\n",
    "    return total"
   ]
  },
  {
   "cell_type": "code",
   "execution_count": null,
   "metadata": {},
   "outputs": [],
   "source": [
    "sum_of_evens(5, 10)"
   ]
  },
  {
   "cell_type": "markdown",
   "metadata": {},
   "source": [
    "> Using Functions as arguments"
   ]
  },
  {
   "cell_type": "code",
   "execution_count": null,
   "metadata": {},
   "outputs": [],
   "source": [
    "def my_sum(lb, ub, f):\n",
    "    total = 0\n",
    "    for e in range(lb, ub + 1):\n",
    "        total += f(e)\n",
    "    return total"
   ]
  },
  {
   "cell_type": "code",
   "execution_count": null,
   "metadata": {},
   "outputs": [],
   "source": [
    "def i(n): return n"
   ]
  },
  {
   "cell_type": "code",
   "execution_count": null,
   "metadata": {},
   "outputs": [],
   "source": [
    "def sqr(n): return n * n"
   ]
  },
  {
   "cell_type": "code",
   "execution_count": null,
   "metadata": {},
   "outputs": [],
   "source": [
    "def cube(n): return n * n * n"
   ]
  },
  {
   "cell_type": "code",
   "execution_count": null,
   "metadata": {},
   "outputs": [],
   "source": [
    "def even(n): return n if n % 2 == 0 else 0"
   ]
  },
  {
   "cell_type": "code",
   "execution_count": null,
   "metadata": {},
   "outputs": [],
   "source": [
    "my_sum(5, 10, i)"
   ]
  },
  {
   "cell_type": "code",
   "execution_count": null,
   "metadata": {},
   "outputs": [],
   "source": [
    "my_sum(5, 10, sqr)"
   ]
  },
  {
   "cell_type": "code",
   "execution_count": null,
   "metadata": {},
   "outputs": [],
   "source": [
    "my_sum(5, 10, cube)"
   ]
  },
  {
   "cell_type": "code",
   "execution_count": null,
   "metadata": {},
   "outputs": [],
   "source": [
    "my_sum(5, 10, even)"
   ]
  },
  {
   "cell_type": "markdown",
   "metadata": {},
   "source": [
    "## Lambda Functions\n",
    "\n",
    "Let us get an overview of Lambda Functions.\n",
    "\n",
    "* A lambda function is a function which does not have name associated with it.\n",
    "* It starts with the keyword `lambda`.\n",
    "* Typically we have simple one liners as part of lambda functions.\n",
    "* There are restrictions while passing or creating lambda functions.\n",
    "  * You cannot have return statement\n",
    "  * Assignment operation is not allowed\n",
    "* Use lambda functions only when the functionality is simple and not used very often."
   ]
  },
  {
   "cell_type": "code",
   "execution_count": null,
   "metadata": {},
   "outputs": [],
   "source": [
    "def my_sum(lb, ub, f):\n",
    "    total = 0\n",
    "    for i in range(lb, ub + 1):\n",
    "        total += f(i)\n",
    "    return total"
   ]
  },
  {
   "cell_type": "code",
   "execution_count": null,
   "metadata": {},
   "outputs": [],
   "source": [
    "def i(n): return n # typical function, for lambda def and function are replaced by keyword lambda"
   ]
  },
  {
   "cell_type": "code",
   "execution_count": null,
   "metadata": {},
   "outputs": [],
   "source": [
    "my_sum(5, 10, i)"
   ]
  },
  {
   "cell_type": "code",
   "execution_count": null,
   "metadata": {},
   "outputs": [],
   "source": [
    "my_sum(5, 10, lambda n: n)"
   ]
  },
  {
   "cell_type": "code",
   "execution_count": null,
   "metadata": {},
   "outputs": [],
   "source": [
    "my_sum(5, 10, lambda n: n * n)"
   ]
  },
  {
   "cell_type": "code",
   "execution_count": null,
   "metadata": {},
   "outputs": [],
   "source": [
    "my_sum(5, 10, lambda n: n * n * n)"
   ]
  },
  {
   "cell_type": "code",
   "execution_count": null,
   "metadata": {},
   "outputs": [],
   "source": [
    "def even(n): return n if n % 2 == 0 else 0 # Another example for typical function"
   ]
  },
  {
   "cell_type": "code",
   "execution_count": null,
   "metadata": {},
   "outputs": [],
   "source": [
    "my_sum(5, 10, even)"
   ]
  },
  {
   "cell_type": "code",
   "execution_count": null,
   "metadata": {},
   "outputs": [],
   "source": [
    "my_sum(5, 10, lambda n: n if n % 2 == 0 else 0)"
   ]
  },
  {
   "cell_type": "code",
   "execution_count": null,
   "metadata": {},
   "outputs": [],
   "source": [
    "my_sum(5, 10, lambda n: n if n % 3 == 0 else 0)"
   ]
  },
  {
   "cell_type": "markdown",
   "metadata": {},
   "source": [
    "## Usage of Lambda Functions\n",
    "\n",
    "Lambda functions are typically used while invoking those functions which take functions as arguments. Here are some of the functions which take other functions as arguments.\n",
    "* `filter`\n",
    "* `map`\n",
    "* `sorted` or `sort`\n",
    "and more\n",
    "\n",
    "There are many Python modules which have functions which take other functions as arguments. We will see quite a lot of examples in upcoming chapters."
   ]
  },
  {
   "cell_type": "code",
   "execution_count": null,
   "metadata": {},
   "outputs": [],
   "source": [
    "filter?"
   ]
  },
  {
   "cell_type": "code",
   "execution_count": null,
   "metadata": {},
   "outputs": [],
   "source": [
    "map?"
   ]
  },
  {
   "cell_type": "code",
   "execution_count": null,
   "metadata": {},
   "outputs": [],
   "source": [
    "sorted?"
   ]
  },
  {
   "cell_type": "code",
   "execution_count": null,
   "metadata": {},
   "outputs": [],
   "source": [
    "users = [\n",
    "    '1,Bryn,Eaken,beaken0@cbc.ca,Female,236.34.175.186',\n",
    "    '2,Smith,Combe,scombe1@xing.com,Male,',\n",
    "    '3,Roland,Wallentin,rwallentin2@aboutads.info,Male,94.67.195.44',\n",
    "    '4,Charlotta,Richten,crichten3@wikia.com,Female,202.51.201.1',\n",
    "    '5,Berne,Coyne,bcoyne4@squarespace.com,,150.246.120.53',\n",
    "    '6,Kesley,Hakonsen,khakonsen5@cbc.ca,Female,227.61.48.174',\n",
    "    \"7,Gray,M'Barron,gmbarron6@altervista.org,Male,190.128.200.183\",\n",
    "    '8,Melinde,Scarf,mscarf7@diigo.com,Female,134.41.141.5',\n",
    "    '9,Arturo,Warkup,awarkup8@nifty.com,Male,',\n",
    "    '10,Annette,Lowthorpe,alowthorpe9@marketwatch.com,Female,63.157.95.191',\n",
    "    '11,Melinda,McOwen,mmcowena@unblog.fr,Female,73.95.183.60',\n",
    "    '12,Minnie,Andrivel,mandrivelb@storify.com,,131.194.233.209',\n",
    "    '13,Taryn,Medhurst,tmedhurstc@ebay.co.uk,Female,65.191.102.59',\n",
    "    '14,Fanni,Whitley,fwhitleyd@who.int,Female,184.210.235.118',\n",
    "    '15,Jareb,Thunderchief,jthunderchiefe@arizona.edu,Male,150.159.27.112',\n",
    "    '16,Sharona,Haffard,shaffardf@kickstarter.com,Female,91.125.183.157',\n",
    "    '17,Pattin,Basant,pbasantg@gov.uk,Male,162.227.228.164',\n",
    "    '18,Beatrice,Butler,bbutlerh@abc.net.au,Female,139.49.169.236',\n",
    "    '19,Linoel,Bucktrout,lbucktrouti@google.ru,Male,18.17.136.105',\n",
    "    '20,Katee,Aveyard,kaveyardj@feedburner.com,Female,60.25.33.89'\n",
    "]"
   ]
  },
  {
   "cell_type": "code",
   "execution_count": null,
   "metadata": {},
   "outputs": [],
   "source": [
    "type(users)"
   ]
  },
  {
   "cell_type": "code",
   "execution_count": null,
   "metadata": {},
   "outputs": [],
   "source": [
    "type(users[0])"
   ]
  },
  {
   "cell_type": "code",
   "execution_count": null,
   "metadata": {},
   "outputs": [],
   "source": [
    "males = filter(\n",
    "    lambda user: user.split(',')[4] == 'Male',\n",
    "    users\n",
    ")\n",
    "list(males)"
   ]
  },
  {
   "cell_type": "code",
   "execution_count": null,
   "metadata": {},
   "outputs": [],
   "source": [
    "male_and_females = filter(\n",
    "    lambda user: user.split(',')[4] in ('Male', 'Female'),\n",
    "    users\n",
    ")\n",
    "list(male_and_females)"
   ]
  },
  {
   "cell_type": "code",
   "execution_count": null,
   "metadata": {},
   "outputs": [],
   "source": [
    "male_and_females = filter(\n",
    "    lambda user: user.split(',')[4] in ('Male', 'Female'),\n",
    "    users\n",
    ")\n",
    "len(list(male_and_females))"
   ]
  },
  {
   "cell_type": "code",
   "execution_count": null,
   "metadata": {},
   "outputs": [],
   "source": [
    "users"
   ]
  },
  {
   "cell_type": "code",
   "execution_count": null,
   "metadata": {},
   "outputs": [],
   "source": [
    "user_ips = map(\n",
    "    lambda user: (int(user.split(',')[0]), user.split(',')[-1]),\n",
    "    users\n",
    ")\n",
    "list(user_ips)"
   ]
  },
  {
   "cell_type": "code",
   "execution_count": null,
   "metadata": {},
   "outputs": [],
   "source": [
    "sort_by_gender_and_id = sorted(\n",
    "    users, \n",
    "    key=lambda user: (user.split(',')[4], int(user.split(',')[0]))\n",
    ")\n",
    "sort_by_gender_and_id"
   ]
  },
  {
   "cell_type": "markdown",
   "metadata": {},
   "source": [
    "## Exercise - User Defined Functions\n",
    "\n",
    "Let us develop a function called as **calc**.\n",
    "* It should take 3 arguments\n",
    "* First argument - a of type int\n",
    "* Second argument - b of type int\n",
    "* Third argument - op of type int\n",
    "* If op is 1, the function should return sum of a and b\n",
    "* If op is 2, the function should subtract b from a and return the result\n",
    "* If op is 3, the function should multiply a with b and return the result\n",
    "* If op is 4, the function should divide a by b and return the result\n",
    "* If op is any other number, the function should print saying that **invalid op** and return nothing"
   ]
  },
  {
   "cell_type": "markdown",
   "metadata": {},
   "source": [
    "### Validation\n",
    "Please run this code to validate the function `calc`."
   ]
  },
  {
   "cell_type": "code",
   "execution_count": null,
   "metadata": {},
   "outputs": [],
   "source": [
    "a = int(input(\"Enter first value of type integer: \"))"
   ]
  },
  {
   "cell_type": "code",
   "execution_count": null,
   "metadata": {},
   "outputs": [],
   "source": [
    "b = int(input(\"Enter second value of type integer: \"))"
   ]
  },
  {
   "cell_type": "code",
   "execution_count": null,
   "metadata": {},
   "outputs": [],
   "source": [
    "op = int(input(\"Enter 1 for add, 2 for sub, 3 for mul and 4 for div: \"))"
   ]
  },
  {
   "cell_type": "code",
   "execution_count": null,
   "metadata": {},
   "outputs": [],
   "source": [
    "res = calc(a, b, op)"
   ]
  }
 ],
 "metadata": {
  "kernelspec": {
   "display_name": "Python 3",
   "language": "python",
   "name": "python3"
  },
  "language_info": {
   "codemirror_mode": {
    "name": "ipython",
    "version": 3
   },
   "file_extension": ".py",
   "mimetype": "text/x-python",
   "name": "python",
   "nbconvert_exporter": "python",
   "pygments_lexer": "ipython3",
   "version": "3.6.12"
  }
 },
 "nbformat": 4,
 "nbformat_minor": 4
}
