{
 "cells": [
  {
   "cell_type": "markdown",
   "metadata": {
    "pycharm": {
     "name": "#%% md\n"
    }
   },
   "source": [
    "# Setup Postgres Database on Ubuntu VM\n",
    "\n",
    "* Setup Postgres using Docker\n",
    "* Accessing Postgres using Docker CLI\n",
    "* Create Database and User\n",
    "* Executing Scripts\n",
    "* Connecting using SQL Workbench\n",
    "* Overview of SQL Workbench\n",
    "* Setup retail database\n",
    "* Using Postgres CLI\n",
    "* Run queries using SQL Workbench"
   ]
  },
  {
   "cell_type": "markdown",
   "metadata": {},
   "source": [
    "## Setup Postgres using Docker\n",
    "As we have successfully setup Docker on our VM, let us go ahead and setup Postgres Database.\n",
    "\n",
    "* We can pull the postgres image from docker hub.\n",
    "* It is better to start the container with password.\n",
    "* Keep in mind that, if you delete the container, you will typically loose the files or data in the container."
   ]
  },
  {
   "cell_type": "markdown",
   "metadata": {},
   "source": [
    "## Accessing Postgres using Docker CLI"
   ]
  },
  {
   "cell_type": "markdown",
   "metadata": {},
   "source": [
    "## Create Database and User"
   ]
  },
  {
   "cell_type": "markdown",
   "source": [
    "## Executing Scripts"
   ],
   "metadata": {
    "collapsed": false,
    "pycharm": {
     "name": "#%% md\n"
    }
   }
  },
  {
   "cell_type": "markdown",
   "metadata": {},
   "source": [
    "## Connecting using SQL Workbench"
   ]
  },
  {
   "cell_type": "markdown",
   "metadata": {},
   "source": [
    "## Overview of SQL Workbench"
   ]
  },
  {
   "cell_type": "markdown",
   "metadata": {},
   "source": [
    "## Setup retail database"
   ]
  },
  {
   "cell_type": "markdown",
   "metadata": {},
   "source": [
    "## Using Postgres CLI"
   ]
  },
  {
   "cell_type": "markdown",
   "metadata": {},
   "source": [
    "## Run queries using SQL Workbench"
   ]
  }
 ],
 "metadata": {
  "kernelspec": {
   "display_name": "Python 3",
   "language": "python",
   "name": "python3"
  },
  "language_info": {
   "codemirror_mode": {
    "name": "ipython",
    "version": 3
   },
   "file_extension": ".py",
   "mimetype": "text/x-python",
   "name": "python",
   "nbconvert_exporter": "python",
   "pygments_lexer": "ipython3",
   "version": "3.7.8"
  }
 },
 "nbformat": 4,
 "nbformat_minor": 4
}