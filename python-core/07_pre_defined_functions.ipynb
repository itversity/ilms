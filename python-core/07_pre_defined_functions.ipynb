{
 "cells": [
  {
   "cell_type": "markdown",
   "metadata": {},
   "source": [
    "# Pre-defined Functions\n",
    "\n",
    "* Overview of Pre-defined Functions\n",
    "* Numeric Functions\n",
    "* String Manipulation Functions\n",
    "* Formatting Strings\n",
    "* Print Functions\n",
    "* Date Manipulation Functions\n",
    "* Special Functions"
   ]
  },
  {
   "cell_type": "markdown",
   "metadata": {},
   "source": [
    "## Overview of Pre-defined Functions\n",
    "\n",
    "Let us get an overview of Pre-defined Functions.\n",
    "* All the programming languages have robust pre-defined functions.\n",
    "* Pre-defined function means the function which is available out of the box.\n",
    "* We can leverage these functions to add key functionalities required as part of our application.\n",
    "* As part of our applications, typically we read the data from databases or files. Also data is typically passed as part of requests (REST APIs)\n",
    "* Once data is read from databases or files, we process the data. This is where the pre-defined functions comes handy.\n",
    "* After data is processed, either we save the data back to database or files or provide responses to requests such as REST API requests.\n",
    "* Even though there are thousands of pre-defined functions as part of Python as well as Python based libraries, let us explore most common ones to begin with.\n",
    "  * Numeric Functions\n",
    "  * String Manipulation Functions\n",
    "  * Date Manipulation Functions\n",
    "* Here are the examples of users data that is read from files\n",
    "  * CSV (Text File) - '1,123 456 789,Scott,Tiger,1989-08-15,+1 415 891 9002,Forrest City,Texas,75063'\n",
    "  * JSON - {\"id\": 1, \"uniq_id\": \"123 456 789\", \"first_name\": \"Scott\", \"last_name\": \"Tiger\", \"dob\": \"1989-08-15\", \"contact_no\": \"+1 415 891 9002\", \"city\": \"Forrest City\", \"state\": \"Texas\", \"zip\": 75063}\n",
    "* We also use JSON as part of REST API requests and responses.\n",
    "* We will use above data to explore the functions that are available as part of Python."
   ]
  },
  {
   "cell_type": "markdown",
   "metadata": {},
   "source": [
    "## Numeric Functions\n",
    "\n",
    "Let us understand some of the common numeric functions we use.\n",
    "* We have functions even for standard operators such as `+`, `-`, `*`, `/`. However, we use operators more often than functions.\n",
    "  * `add` for `+`\n",
    "  * `sub` for `-`\n",
    "  * `mul` for `*`\n",
    "  * `truediv` for `/`\n",
    "* We can use `pow` for getting power value.\n",
    "* We also have `math` library for some advanced mathematical operations.\n",
    "* Also, we have functions such as `min`, `max` to get minimum and maximum of the numbers passed.\n",
    "\n"
   ]
  },
  {
   "cell_type": "markdown",
   "metadata": {},
   "source": [
    "## String Manipulation Functions"
   ]
  },
  {
   "cell_type": "markdown",
   "metadata": {},
   "source": [
    "## Formatting Strings"
   ]
  },
  {
   "cell_type": "markdown",
   "metadata": {},
   "source": [
    "## Print Functions"
   ]
  },
  {
   "cell_type": "markdown",
   "metadata": {},
   "source": [
    "## Date Manipulation Functions"
   ]
  },
  {
   "cell_type": "markdown",
   "metadata": {},
   "source": [
    "## Special Functions"
   ]
  }
 ],
 "metadata": {
  "kernelspec": {
   "display_name": "Python 3",
   "language": "python",
   "name": "python3"
  },
  "language_info": {
   "codemirror_mode": {
    "name": "ipython",
    "version": 3
   },
   "file_extension": ".py",
   "mimetype": "text/x-python",
   "name": "python",
   "nbconvert_exporter": "python",
   "pygments_lexer": "ipython3",
   "version": "3.7.8"
  }
 },
 "nbformat": 4,
 "nbformat_minor": 4
}