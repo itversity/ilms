{
 "cells": [
  {
   "cell_type": "markdown",
   "source": [
    "# Perform Database Operations\n",
    "\n",
    "As part of this module we will perform basic database operations in Postgres. This is just to get started and advanced concepts will be covered as part of other courses.\n",
    "* Overview of SQL\n",
    "* Create Database and Students Table\n",
    "* DDL – Data Definition Language\n",
    "* DML – Data Manipulation Language\n",
    "* DQL – Data Query Language\n",
    "* CRUD Operations – DML and DQL\n",
    "* TCL – Transaction Control Language"
   ],
   "metadata": {
    "collapsed": false,
    "pycharm": {
     "name": "#%% md\n"
    }
   }
  },
  {
   "cell_type": "markdown",
   "source": [
    "## Overview of SQL\n",
    "\n",
    "SQL stands for Structured Query Language and it is broadly categorized into following:\n",
    "* DDL - Data Definition Language\n",
    "  * Creating Database Objects such as Tables, Indexes etc.\n",
    "  * Define constraints such as not null, primary key, foreign key etc.\n",
    "* DML - Data Manipulation Language\n",
    "  * Inserting or Updating data in the tables\n",
    "  * Deleting data from the tables\n",
    "* DQL - Data Query Language\n",
    "  * Project the data\n",
    "  * Filter based up on the requirements\n",
    "  * Join multiple tables\n",
    "* TCL - Transaction Control Language\n",
    "  * Commit to persistently store the changes.\n",
    "  * Rollback to revert back changes to the prior state.\n",
    "\n",
    "Typically as part of applications we perform CRUD Operations which are nothing but DML and DQL."
   ],
   "metadata": {
    "collapsed": false
   }
  },
  {
   "cell_type": "markdown",
   "source": [
    "## Create Database and Students Table"
   ],
   "metadata": {
    "collapsed": false
   }
  },
  {
   "cell_type": "markdown",
   "source": [
    "## DDL – Data Definition Language\n",
    "\n",
    "Let us get an overview of DDL Statements which are typically used to create database objects such as tables.\n",
    "* DDL Stands for Data Definition Language.\n",
    "* We execute DDL statements less frequently.\n",
    "* DDL Scripts are maintained separately.\n",
    "* Following are the common DDL tasks.\n",
    "  * Creating Tables - Independent Object\n",
    "  * Creating Indexes for performance - Typically dependent on tables\n",
    "  * Adding constraints to existing tables\n",
    "* Following are less common DDL tasks.\n",
    "  * Adding columns to existing tables\n",
    "  * Dropping columns from existing tables\n",
    "  * Changing data types of existing columns\n",
    "* While creating tables in RDBMS databases, we should specify data types for the columns.\n",
    "* Constraints can either be added as part of `CREATE TABLE` statement or using `ALTER TABLE` for pre-created tables."
   ],
   "metadata": {
    "collapsed": false
   }
  },
  {
   "cell_type": "markdown",
   "source": [
    "## DML – Data Manipulation Language\n",
    "\n",
    "Once the tables are created, we typically have to manipulate data inside the tables.\n",
    "* All the statements that are used to manipulate data in tables are categorized under DML.\n",
    "* Each entry in a table is typically termed as **rows** or **records**.\n",
    "* We use `INSERT` to insert one or more new records into a table.\n",
    "* `UPDATE` can be used to update existing records inside a table.\n",
    "* One can use `DELETE` to delete one or more records from a table.\n",
    "* We can also use `TRUNCATE` to delete all the records in one shot.\n",
    "* All DML Statements can be committed or rolled back with in a transaction."
   ],
   "metadata": {
    "collapsed": false
   }
  },
  {
   "cell_type": "markdown",
   "source": [
    "## DQL – Data Query Language"
   ],
   "metadata": {
    "collapsed": false
   }
  },
  {
   "cell_type": "markdown",
   "source": [
    "## CRUD Operations – DML and DQL"
   ],
   "metadata": {
    "collapsed": false
   }
  },
  {
   "cell_type": "markdown",
   "source": [
    "## TCL – Transaction Control Language"
   ],
   "metadata": {
    "collapsed": false
   }
  }
 ],
 "metadata": {
  "kernelspec": {
   "display_name": "Python 3",
   "language": "python",
   "name": "python3"
  },
  "language_info": {
   "codemirror_mode": {
    "name": "ipython",
    "version": 3
   },
   "file_extension": ".py",
   "mimetype": "text/x-python",
   "name": "python",
   "nbconvert_exporter": "python",
   "pygments_lexer": "ipython3",
   "version": "3.7.8"
  }
 },
 "nbformat": 4,
 "nbformat_minor": 4
}